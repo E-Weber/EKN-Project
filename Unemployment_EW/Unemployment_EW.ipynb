{
 "cells": [
  {
   "cell_type": "code",
   "execution_count": 72,
   "id": "chemical-australian",
   "metadata": {
    "scrolled": true
   },
   "outputs": [],
   "source": [
    "# Dependencies and Setup\n",
    "import pandas as pd\n",
    "import numpy as np\n",
    "import matplotlib.pyplot as plt\n",
    "import scipy.stats as st\n",
    "from scipy.stats import linregress\n",
    "from scipy.stats import sem\n",
    "import matplotlib.dates as mdates\n",
    "import datetime as dt\n",
    "import seaborn as sns\n",
    "\n",
    "# File to Load (Remember to Change These)\n",
    "file1 = \"./Data/UnemploymentRate.csv\"\n",
    "file2 = \"./Data/TotalUnemployment.csv\"\n",
    "UnemploymentRate = pd.read_csv(file1)\n",
    "TotalUnemployment = pd.read_csv(file2)\n",
    "#UnemploymentRate.head()\n",
    "#TotalUnemployment.head()\n"
   ]
  },
  {
   "cell_type": "code",
   "execution_count": 3,
   "id": "unique-genesis",
   "metadata": {},
   "outputs": [
    {
     "name": "stdout",
     "output_type": "stream",
     "text": [
      "<class 'pandas.core.frame.DataFrame'>\n",
      "RangeIndex: 24 entries, 0 to 23\n",
      "Data columns (total 3 columns):\n",
      " #   Column     Non-Null Count  Dtype  \n",
      "---  ------     --------------  -----  \n",
      " 0   Series ID  24 non-null     object \n",
      " 1   Date       24 non-null     object \n",
      " 2   Value      24 non-null     float64\n",
      "dtypes: float64(1), object(2)\n",
      "memory usage: 704.0+ bytes\n"
     ]
    }
   ],
   "source": [
    "UnemploymentRate.info()"
   ]
  },
  {
   "cell_type": "code",
   "execution_count": 4,
   "id": "substantial-theme",
   "metadata": {
    "scrolled": true
   },
   "outputs": [
    {
     "data": {
      "text/html": [
       "<div>\n",
       "<style scoped>\n",
       "    .dataframe tbody tr th:only-of-type {\n",
       "        vertical-align: middle;\n",
       "    }\n",
       "\n",
       "    .dataframe tbody tr th {\n",
       "        vertical-align: top;\n",
       "    }\n",
       "\n",
       "    .dataframe thead th {\n",
       "        text-align: right;\n",
       "    }\n",
       "</style>\n",
       "<table border=\"1\" class=\"dataframe\">\n",
       "  <thead>\n",
       "    <tr style=\"text-align: right;\">\n",
       "      <th></th>\n",
       "      <th>Series ID</th>\n",
       "      <th>Date</th>\n",
       "      <th>Value</th>\n",
       "    </tr>\n",
       "  </thead>\n",
       "  <tbody>\n",
       "    <tr>\n",
       "      <th>0</th>\n",
       "      <td>LAUCN290950000000003</td>\n",
       "      <td>2019-01-01</td>\n",
       "      <td>4.3</td>\n",
       "    </tr>\n",
       "    <tr>\n",
       "      <th>1</th>\n",
       "      <td>LAUCN290950000000003</td>\n",
       "      <td>2019-02-01</td>\n",
       "      <td>4.0</td>\n",
       "    </tr>\n",
       "    <tr>\n",
       "      <th>2</th>\n",
       "      <td>LAUCN290950000000003</td>\n",
       "      <td>2019-03-01</td>\n",
       "      <td>4.2</td>\n",
       "    </tr>\n",
       "    <tr>\n",
       "      <th>3</th>\n",
       "      <td>LAUCN290950000000003</td>\n",
       "      <td>2019-04-01</td>\n",
       "      <td>3.1</td>\n",
       "    </tr>\n",
       "    <tr>\n",
       "      <th>4</th>\n",
       "      <td>LAUCN290950000000003</td>\n",
       "      <td>2019-05-01</td>\n",
       "      <td>3.4</td>\n",
       "    </tr>\n",
       "  </tbody>\n",
       "</table>\n",
       "</div>"
      ],
      "text/plain": [
       "              Series ID        Date  Value\n",
       "0  LAUCN290950000000003  2019-01-01    4.3\n",
       "1  LAUCN290950000000003  2019-02-01    4.0\n",
       "2  LAUCN290950000000003  2019-03-01    4.2\n",
       "3  LAUCN290950000000003  2019-04-01    3.1\n",
       "4  LAUCN290950000000003  2019-05-01    3.4"
      ]
     },
     "execution_count": 4,
     "metadata": {},
     "output_type": "execute_result"
    }
   ],
   "source": [
    "rate_df = pd.DataFrame(UnemploymentRate)\n",
    "rate_df.head(5)                     "
   ]
  },
  {
   "cell_type": "code",
   "execution_count": 5,
   "id": "negative-cartoon",
   "metadata": {},
   "outputs": [
    {
     "data": {
      "text/html": [
       "<div>\n",
       "<style scoped>\n",
       "    .dataframe tbody tr th:only-of-type {\n",
       "        vertical-align: middle;\n",
       "    }\n",
       "\n",
       "    .dataframe tbody tr th {\n",
       "        vertical-align: top;\n",
       "    }\n",
       "\n",
       "    .dataframe thead th {\n",
       "        text-align: right;\n",
       "    }\n",
       "</style>\n",
       "<table border=\"1\" class=\"dataframe\">\n",
       "  <thead>\n",
       "    <tr style=\"text-align: right;\">\n",
       "      <th></th>\n",
       "      <th>Series ID</th>\n",
       "      <th>Date</th>\n",
       "      <th>Value</th>\n",
       "    </tr>\n",
       "  </thead>\n",
       "  <tbody>\n",
       "    <tr>\n",
       "      <th>0</th>\n",
       "      <td>LAUCN290950000000003</td>\n",
       "      <td>2019-01-01</td>\n",
       "      <td>4.3</td>\n",
       "    </tr>\n",
       "    <tr>\n",
       "      <th>1</th>\n",
       "      <td>LAUCN290950000000003</td>\n",
       "      <td>2019-02-01</td>\n",
       "      <td>4.0</td>\n",
       "    </tr>\n",
       "    <tr>\n",
       "      <th>2</th>\n",
       "      <td>LAUCN290950000000003</td>\n",
       "      <td>2019-03-01</td>\n",
       "      <td>4.2</td>\n",
       "    </tr>\n",
       "    <tr>\n",
       "      <th>3</th>\n",
       "      <td>LAUCN290950000000003</td>\n",
       "      <td>2019-04-01</td>\n",
       "      <td>3.1</td>\n",
       "    </tr>\n",
       "    <tr>\n",
       "      <th>4</th>\n",
       "      <td>LAUCN290950000000003</td>\n",
       "      <td>2019-05-01</td>\n",
       "      <td>3.4</td>\n",
       "    </tr>\n",
       "    <tr>\n",
       "      <th>5</th>\n",
       "      <td>LAUCN290950000000003</td>\n",
       "      <td>2019-06-01</td>\n",
       "      <td>3.8</td>\n",
       "    </tr>\n",
       "    <tr>\n",
       "      <th>6</th>\n",
       "      <td>LAUCN290950000000003</td>\n",
       "      <td>2019-07-01</td>\n",
       "      <td>4.5</td>\n",
       "    </tr>\n",
       "    <tr>\n",
       "      <th>7</th>\n",
       "      <td>LAUCN290950000000003</td>\n",
       "      <td>2019-08-01</td>\n",
       "      <td>4.0</td>\n",
       "    </tr>\n",
       "    <tr>\n",
       "      <th>8</th>\n",
       "      <td>LAUCN290950000000003</td>\n",
       "      <td>2019-09-01</td>\n",
       "      <td>3.0</td>\n",
       "    </tr>\n",
       "    <tr>\n",
       "      <th>9</th>\n",
       "      <td>LAUCN290950000000003</td>\n",
       "      <td>2019-10-01</td>\n",
       "      <td>3.2</td>\n",
       "    </tr>\n",
       "    <tr>\n",
       "      <th>10</th>\n",
       "      <td>LAUCN290950000000003</td>\n",
       "      <td>2019-11-01</td>\n",
       "      <td>3.4</td>\n",
       "    </tr>\n",
       "    <tr>\n",
       "      <th>11</th>\n",
       "      <td>LAUCN290950000000003</td>\n",
       "      <td>2019-12-01</td>\n",
       "      <td>3.7</td>\n",
       "    </tr>\n",
       "  </tbody>\n",
       "</table>\n",
       "</div>"
      ],
      "text/plain": [
       "               Series ID        Date  Value\n",
       "0   LAUCN290950000000003  2019-01-01    4.3\n",
       "1   LAUCN290950000000003  2019-02-01    4.0\n",
       "2   LAUCN290950000000003  2019-03-01    4.2\n",
       "3   LAUCN290950000000003  2019-04-01    3.1\n",
       "4   LAUCN290950000000003  2019-05-01    3.4\n",
       "5   LAUCN290950000000003  2019-06-01    3.8\n",
       "6   LAUCN290950000000003  2019-07-01    4.5\n",
       "7   LAUCN290950000000003  2019-08-01    4.0\n",
       "8   LAUCN290950000000003  2019-09-01    3.0\n",
       "9   LAUCN290950000000003  2019-10-01    3.2\n",
       "10  LAUCN290950000000003  2019-11-01    3.4\n",
       "11  LAUCN290950000000003  2019-12-01    3.7"
      ]
     },
     "execution_count": 5,
     "metadata": {},
     "output_type": "execute_result"
    }
   ],
   "source": [
    "        # Average Unemployment in KC for 2019\n",
    "top = rate_df.loc[0:11]\n",
    "top"
   ]
  },
  {
   "cell_type": "code",
   "execution_count": 6,
   "id": "military-interval",
   "metadata": {},
   "outputs": [
    {
     "name": "stdout",
     "output_type": "stream",
     "text": [
      "Average unemployment rate in Kansas City for 2019 was 3.716666666666667\n"
     ]
    }
   ],
   "source": [
    "        # Average Unemployment rate in Kansas City in 2019\n",
    "Tvalue = top['Value'].sum()\n",
    "Avg_rate1 = Tvalue/12\n",
    "#Avg_rate1 = Avg_rate1.map('{:.1f}%'.format)\n",
    "print(f'Average unemployment rate in Kansas City for 2019 was {Avg_rate1}')"
   ]
  },
  {
   "cell_type": "code",
   "execution_count": 125,
   "id": "checked-kingston",
   "metadata": {
    "scrolled": true
   },
   "outputs": [
    {
     "data": {
      "text/plain": [
       "<Figure size 432x288 with 0 Axes>"
      ]
     },
     "metadata": {},
     "output_type": "display_data"
    },
    {
     "data": {
      "image/png": "[encoded data removed]",
      "text/plain": [
       "<Figure size 1440x360 with 1 Axes>"
      ]
     },
     "metadata": {
      "needs_background": "light"
     },
     "output_type": "display_data"
    }
   ],
   "source": [
    "plt.figure()\n",
    "plt.figure(figsize=(20,5))\n",
    "plt.plot(top['Date'], top['Value'])\n",
    "ax = plt.gca()\n",
    "ax.tick_params(axis='x', labelrotation = 45)\n",
    "plt.fill_between(top['Date'],top['Value'], 0)\n",
    "plt.grid(True)\n",
    "plt.show()"
   ]
  },
  {
   "cell_type": "code",
   "execution_count": 8,
   "id": "personal-circuit",
   "metadata": {
    "scrolled": true
   },
   "outputs": [
    {
     "data": {
      "text/html": [
       "<div>\n",
       "<style scoped>\n",
       "    .dataframe tbody tr th:only-of-type {\n",
       "        vertical-align: middle;\n",
       "    }\n",
       "\n",
       "    .dataframe tbody tr th {\n",
       "        vertical-align: top;\n",
       "    }\n",
       "\n",
       "    .dataframe thead th {\n",
       "        text-align: right;\n",
       "    }\n",
       "</style>\n",
       "<table border=\"1\" class=\"dataframe\">\n",
       "  <thead>\n",
       "    <tr style=\"text-align: right;\">\n",
       "      <th></th>\n",
       "      <th>Series ID</th>\n",
       "      <th>Date</th>\n",
       "      <th>Value</th>\n",
       "    </tr>\n",
       "  </thead>\n",
       "  <tbody>\n",
       "    <tr>\n",
       "      <th>12</th>\n",
       "      <td>LAUCN290950000000003</td>\n",
       "      <td>2020-01-01</td>\n",
       "      <td>4.3</td>\n",
       "    </tr>\n",
       "    <tr>\n",
       "      <th>13</th>\n",
       "      <td>LAUCN290950000000003</td>\n",
       "      <td>2020-02-01</td>\n",
       "      <td>3.9</td>\n",
       "    </tr>\n",
       "    <tr>\n",
       "      <th>14</th>\n",
       "      <td>LAUCN290950000000003</td>\n",
       "      <td>2020-03-01</td>\n",
       "      <td>4.4</td>\n",
       "    </tr>\n",
       "    <tr>\n",
       "      <th>15</th>\n",
       "      <td>LAUCN290950000000003</td>\n",
       "      <td>2020-04-01</td>\n",
       "      <td>11.4</td>\n",
       "    </tr>\n",
       "    <tr>\n",
       "      <th>16</th>\n",
       "      <td>LAUCN290950000000003</td>\n",
       "      <td>2020-05-01</td>\n",
       "      <td>11.6</td>\n",
       "    </tr>\n",
       "    <tr>\n",
       "      <th>17</th>\n",
       "      <td>LAUCN290950000000003</td>\n",
       "      <td>2020-06-01</td>\n",
       "      <td>8.8</td>\n",
       "    </tr>\n",
       "    <tr>\n",
       "      <th>18</th>\n",
       "      <td>LAUCN290950000000003</td>\n",
       "      <td>2020-07-01</td>\n",
       "      <td>8.6</td>\n",
       "    </tr>\n",
       "    <tr>\n",
       "      <th>19</th>\n",
       "      <td>LAUCN290950000000003</td>\n",
       "      <td>2020-08-01</td>\n",
       "      <td>8.8</td>\n",
       "    </tr>\n",
       "    <tr>\n",
       "      <th>20</th>\n",
       "      <td>LAUCN290950000000003</td>\n",
       "      <td>2020-09-01</td>\n",
       "      <td>5.5</td>\n",
       "    </tr>\n",
       "    <tr>\n",
       "      <th>21</th>\n",
       "      <td>LAUCN290950000000003</td>\n",
       "      <td>2020-10-01</td>\n",
       "      <td>4.9</td>\n",
       "    </tr>\n",
       "    <tr>\n",
       "      <th>22</th>\n",
       "      <td>LAUCN290950000000003</td>\n",
       "      <td>2020-11-01</td>\n",
       "      <td>5.0</td>\n",
       "    </tr>\n",
       "    <tr>\n",
       "      <th>23</th>\n",
       "      <td>LAUCN290950000000003</td>\n",
       "      <td>2020-12-01</td>\n",
       "      <td>6.9</td>\n",
       "    </tr>\n",
       "  </tbody>\n",
       "</table>\n",
       "</div>"
      ],
      "text/plain": [
       "               Series ID        Date  Value\n",
       "12  LAUCN290950000000003  2020-01-01    4.3\n",
       "13  LAUCN290950000000003  2020-02-01    3.9\n",
       "14  LAUCN290950000000003  2020-03-01    4.4\n",
       "15  LAUCN290950000000003  2020-04-01   11.4\n",
       "16  LAUCN290950000000003  2020-05-01   11.6\n",
       "17  LAUCN290950000000003  2020-06-01    8.8\n",
       "18  LAUCN290950000000003  2020-07-01    8.6\n",
       "19  LAUCN290950000000003  2020-08-01    8.8\n",
       "20  LAUCN290950000000003  2020-09-01    5.5\n",
       "21  LAUCN290950000000003  2020-10-01    4.9\n",
       "22  LAUCN290950000000003  2020-11-01    5.0\n",
       "23  LAUCN290950000000003  2020-12-01    6.9"
      ]
     },
     "execution_count": 8,
     "metadata": {},
     "output_type": "execute_result"
    }
   ],
   "source": [
    "                # 2020 Unemployment rate information\n",
    "bottom = rate_df.loc[12:23]\n",
    "bottom"
   ]
  },
  {
   "cell_type": "code",
   "execution_count": 9,
   "id": "valued-combination",
   "metadata": {},
   "outputs": [
    {
     "data": {
      "text/plain": [
       "84.10000000000001"
      ]
     },
     "execution_count": 9,
     "metadata": {},
     "output_type": "execute_result"
    }
   ],
   "source": [
    "Bvalue = bottom['Value'].sum()\n",
    "Bvalue"
   ]
  },
  {
   "cell_type": "code",
   "execution_count": 13,
   "id": "timely-frederick",
   "metadata": {},
   "outputs": [
    {
     "name": "stdout",
     "output_type": "stream",
     "text": [
      "Average unemployment rate in Kansas City for 2020 was 7.008333333333334\n"
     ]
    }
   ],
   "source": [
    "        # Average Unemployment rate in Kansas City in 2020\n",
    "Bvalue = bottom['Value'].sum()\n",
    "Avg_rate2 = Bvalue/12\n",
    "#Avg_rate2 = Avg_rate2.map('{:.1f}%'.format)\n",
    "print(f'Average unemployment rate in Kansas City for 2020 was {Avg_rate2}')"
   ]
  },
  {
   "cell_type": "code",
   "execution_count": 123,
   "id": "moving-armor",
   "metadata": {},
   "outputs": [
    {
     "data": {
      "text/plain": [
       "<Figure size 432x288 with 0 Axes>"
      ]
     },
     "metadata": {},
     "output_type": "display_data"
    },
    {
     "data": {
      "image/png": "[encoded data removed]",
      "text/plain": [
       "<Figure size 1440x360 with 1 Axes>"
      ]
     },
     "metadata": {
      "needs_background": "light"
     },
     "output_type": "display_data"
    }
   ],
   "source": [
    "plt.figure()\n",
    "plt.figure(figsize=(20,5))\n",
    "plt.plot(bottom['Date'],bottom['Value'])\n",
    "plt.fill_between(bottom['Date'],bottom['Value'], 0)\n",
    "ax = plt.gca()\n",
    "ax.tick_params(axis='x', labelrotation = 45)\n",
    "plt.grid(True)\n",
    "section = np.arange(-1, 1, 1/20.)\n",
    "plt.show()"
   ]
  },
  {
   "cell_type": "code",
   "execution_count": 115,
   "id": "august-elevation",
   "metadata": {},
   "outputs": [],
   "source": [
    "unemployment19 = top[\"Value\"]\n",
    "unemployment20 = bottom[\"Value\"]"
   ]
  },
  {
   "cell_type": "code",
   "execution_count": 121,
   "id": "auburn-confidence",
   "metadata": {},
   "outputs": [
    {
     "data": {
      "image/png": "[encoded data removed]",
      "text/plain": [
       "<Figure size 432x288 with 1 Axes>"
      ]
     },
     "metadata": {
      "needs_background": "light"
     },
     "output_type": "display_data"
    },
    {
     "data": {
      "text/plain": [
       "<Figure size 432x288 with 0 Axes>"
      ]
     },
     "metadata": {},
     "output_type": "display_data"
    }
   ],
   "source": [
    "N = 12\n",
    "ind = np.arange(N) \n",
    "width = 0.35       \n",
    "plt.bar(ind, unemployment19, width, label='2019')\n",
    "plt.bar(ind + width, unemployment20, width, label='2020')\n",
    "plt.ylabel('Rate(%)')\n",
    "plt.title('Unemployment Rate in Kansas City')\n",
    "ax = plt.gca()\n",
    "ax.tick_params(axis='x', labelrotation = 45)\n",
    "plt.xticks(ind + width / 2, ('Jan', 'Feb', 'March', 'April', 'May', 'June', 'July', 'Aug', 'Sept','Oct','Nov', 'Dec'))\n",
    "plt.legend(loc='best')\n",
    "plt.show()\n",
    "plt.savefig(\"Output/UnemploymentRate.png\")"
   ]
  },
  {
   "cell_type": "code",
   "execution_count": 112,
   "id": "massive-dakota",
   "metadata": {
    "scrolled": true
   },
   "outputs": [
    {
     "data": {
      "text/plain": [
       "<Figure size 432x288 with 0 Axes>"
      ]
     },
     "metadata": {},
     "output_type": "display_data"
    },
    {
     "data": {
      "image/png": "[encoded data removed]",
      "text/plain": [
       "<Figure size 1440x360 with 1 Axes>"
      ]
     },
     "metadata": {
      "needs_background": "light"
     },
     "output_type": "display_data"
    },
    {
     "data": {
      "text/plain": [
       "<Figure size 432x288 with 0 Axes>"
      ]
     },
     "metadata": {},
     "output_type": "display_data"
    }
   ],
   "source": [
    "plt.figure()\n",
    "plt.figure(figsize=(20,5))\n",
    "rate19 = plt.bar(top['Date'],top['Value'], label = \"Unemployment Rate 2019\", color = ['orange'])\n",
    "rate20= plt.bar(bottom['Date'], bottom['Value'], label = \"Unemployment Rate 2020\", color=['blue'])\n",
    "ax = plt.gca()\n",
    "ax.tick_params(axis='x', labelrotation = 45)\n",
    "ax.xaxis.set_major_locator(mdates.MonthLocator(interval=1))\n",
    "#ax.xaxis.set_major_formatter(mdates.DateFormatter('%Y-%D-%M'))\n",
    "#plt.gcf().autofmt_xdate() # Rotation\n",
    "plt.legend (loc=\"upper left\", fontsize = 20)\n",
    "plt.title('Kansas City Unemployment Rate', fontsize=25)\n",
    "plt.xlabel(\"Month\", fontsize = 20)\n",
    "plt.ylabel(\"Rate (%)\", fontsize = 20)\n",
    "plt.grid(True)\n",
    "plt.show()\n",
    "plt.savefig(\"Output/Unemployment.png\")"
   ]
  },
  {
   "cell_type": "code",
   "execution_count": 15,
   "id": "framed-williams",
   "metadata": {},
   "outputs": [],
   "source": [
    "        # Average Unemployment rate in KC in 2019 & 2020"
   ]
  },
  {
   "cell_type": "code",
   "execution_count": 16,
   "id": "unique-chart",
   "metadata": {},
   "outputs": [
    {
     "data": {
      "text/plain": [
       "<pandas.core.groupby.generic.DataFrameGroupBy object at 0x000001FBEB13F438>"
      ]
     },
     "execution_count": 16,
     "metadata": {},
     "output_type": "execute_result"
    }
   ],
   "source": [
    "by_year = UnemploymentRate.set_index(\"Date\").groupby([\"Date\"])\n",
    "by_year"
   ]
  },
  {
   "cell_type": "code",
   "execution_count": 17,
   "id": "facial-entity",
   "metadata": {},
   "outputs": [
    {
     "data": {
      "text/plain": [
       "0    2019-01-01\n",
       "1    2019-02-01\n",
       "2    2019-03-01\n",
       "3    2019-04-01\n",
       "4    2019-05-01\n",
       "5    2019-06-01\n",
       "6    2019-07-01\n",
       "7    2019-08-01\n",
       "8    2019-09-01\n",
       "9    2019-10-01\n",
       "10   2019-11-01\n",
       "11   2019-12-01\n",
       "12   2020-01-01\n",
       "13   2020-02-01\n",
       "14   2020-03-01\n",
       "15   2020-04-01\n",
       "16   2020-05-01\n",
       "17   2020-06-01\n",
       "18   2020-07-01\n",
       "19   2020-08-01\n",
       "20   2020-09-01\n",
       "21   2020-10-01\n",
       "22   2020-11-01\n",
       "23   2020-12-01\n",
       "Name: Date, dtype: datetime64[ns]"
      ]
     },
     "execution_count": 17,
     "metadata": {},
     "output_type": "execute_result"
    }
   ],
   "source": [
    "pd.to_datetime(rate_df[\"Date\"])"
   ]
  },
  {
   "cell_type": "code",
   "execution_count": 18,
   "id": "filled-jones",
   "metadata": {},
   "outputs": [],
   "source": [
    "rate_df [\"Date\"] = pd.to_datetime(rate_df[\"Date\"])"
   ]
  },
  {
   "cell_type": "code",
   "execution_count": 19,
   "id": "olive-france",
   "metadata": {},
   "outputs": [
    {
     "data": {
      "text/html": [
       "<div>\n",
       "<style scoped>\n",
       "    .dataframe tbody tr th:only-of-type {\n",
       "        vertical-align: middle;\n",
       "    }\n",
       "\n",
       "    .dataframe tbody tr th {\n",
       "        vertical-align: top;\n",
       "    }\n",
       "\n",
       "    .dataframe thead th {\n",
       "        text-align: right;\n",
       "    }\n",
       "</style>\n",
       "<table border=\"1\" class=\"dataframe\">\n",
       "  <thead>\n",
       "    <tr style=\"text-align: right;\">\n",
       "      <th></th>\n",
       "      <th>Series ID</th>\n",
       "      <th>Date</th>\n",
       "      <th>Value</th>\n",
       "    </tr>\n",
       "  </thead>\n",
       "  <tbody>\n",
       "    <tr>\n",
       "      <th>13</th>\n",
       "      <td>LAUCN290950000000003</td>\n",
       "      <td>2020-02-01</td>\n",
       "      <td>3.9</td>\n",
       "    </tr>\n",
       "    <tr>\n",
       "      <th>14</th>\n",
       "      <td>LAUCN290950000000003</td>\n",
       "      <td>2020-03-01</td>\n",
       "      <td>4.4</td>\n",
       "    </tr>\n",
       "  </tbody>\n",
       "</table>\n",
       "</div>"
      ],
      "text/plain": [
       "               Series ID       Date  Value\n",
       "13  LAUCN290950000000003 2020-02-01    3.9\n",
       "14  LAUCN290950000000003 2020-03-01    4.4"
      ]
     },
     "execution_count": 19,
     "metadata": {},
     "output_type": "execute_result"
    }
   ],
   "source": [
    "before_df = rate_df[(rate_df['Date'] > '2020-01-1') & (rate_df['Date'] <= '2020-03-16')]\n",
    "before_df"
   ]
  },
  {
   "cell_type": "code",
   "execution_count": 20,
   "id": "divided-emerald",
   "metadata": {},
   "outputs": [
    {
     "data": {
      "text/html": [
       "<div>\n",
       "<style scoped>\n",
       "    .dataframe tbody tr th:only-of-type {\n",
       "        vertical-align: middle;\n",
       "    }\n",
       "\n",
       "    .dataframe tbody tr th {\n",
       "        vertical-align: top;\n",
       "    }\n",
       "\n",
       "    .dataframe thead th {\n",
       "        text-align: right;\n",
       "    }\n",
       "</style>\n",
       "<table border=\"1\" class=\"dataframe\">\n",
       "  <thead>\n",
       "    <tr style=\"text-align: right;\">\n",
       "      <th></th>\n",
       "      <th>Series ID</th>\n",
       "      <th>Date</th>\n",
       "      <th>Value</th>\n",
       "    </tr>\n",
       "  </thead>\n",
       "  <tbody>\n",
       "    <tr>\n",
       "      <th>15</th>\n",
       "      <td>LAUCN290950000000003</td>\n",
       "      <td>2020-04-01</td>\n",
       "      <td>11.4</td>\n",
       "    </tr>\n",
       "    <tr>\n",
       "      <th>16</th>\n",
       "      <td>LAUCN290950000000003</td>\n",
       "      <td>2020-05-01</td>\n",
       "      <td>11.6</td>\n",
       "    </tr>\n",
       "    <tr>\n",
       "      <th>17</th>\n",
       "      <td>LAUCN290950000000003</td>\n",
       "      <td>2020-06-01</td>\n",
       "      <td>8.8</td>\n",
       "    </tr>\n",
       "  </tbody>\n",
       "</table>\n",
       "</div>"
      ],
      "text/plain": [
       "               Series ID       Date  Value\n",
       "15  LAUCN290950000000003 2020-04-01   11.4\n",
       "16  LAUCN290950000000003 2020-05-01   11.6\n",
       "17  LAUCN290950000000003 2020-06-01    8.8"
      ]
     },
     "execution_count": 20,
     "metadata": {},
     "output_type": "execute_result"
    }
   ],
   "source": [
    "firstqtr_df = rate_df[(rate_df['Date'] >'2020-03-01') & (rate_df['Date'] <= '2020-06-30')]\n",
    "firstqtr_df"
   ]
  },
  {
   "cell_type": "code",
   "execution_count": 21,
   "id": "disabled-tobacco",
   "metadata": {},
   "outputs": [
    {
     "data": {
      "text/plain": [
       "<Figure size 432x288 with 0 Axes>"
      ]
     },
     "metadata": {},
     "output_type": "display_data"
    },
    {
     "data": {
      "image/png": "[encoded data removed]",
      "text/plain": [
       "<Figure size 1440x360 with 1 Axes>"
      ]
     },
     "metadata": {
      "needs_background": "light"
     },
     "output_type": "display_data"
    }
   ],
   "source": [
    "plt.figure()\n",
    "plt.figure(figsize=(20,5))\n",
    "plt.plot(rate_df['Date'], rate_df['Value'])\n",
    "ax = plt.gca()\n",
    "ax.xaxis.set_major_locator(mdates.MonthLocator(interval=1))\n",
    "#ax.xaxis.set_major_formatter(mdates.DateFormatter('%Y-%D-%M'))\n",
    "#plt.gcf().autofmt_xdate() # Rotation\n",
    "plt.grid(True)\n",
    "plt.show()"
   ]
  },
  {
   "cell_type": "code",
   "execution_count": null,
   "id": "dietary-payday",
   "metadata": {},
   "outputs": [],
   "source": []
  },
  {
   "cell_type": "code",
   "execution_count": 22,
   "id": "crude-wells",
   "metadata": {
    "scrolled": false
   },
   "outputs": [
    {
     "data": {
      "text/plain": [
       "Date\n",
       "2019-01-01     4.3\n",
       "2019-02-01     4.0\n",
       "2019-03-01     4.2\n",
       "2019-04-01     3.1\n",
       "2019-05-01     3.4\n",
       "2019-06-01     3.8\n",
       "2019-07-01     4.5\n",
       "2019-08-01     4.0\n",
       "2019-09-01     3.0\n",
       "2019-10-01     3.2\n",
       "2019-11-01     3.4\n",
       "2019-12-01     3.7\n",
       "2020-01-01     4.3\n",
       "2020-02-01     3.9\n",
       "2020-03-01     4.4\n",
       "2020-04-01    11.4\n",
       "2020-05-01    11.6\n",
       "2020-06-01     8.8\n",
       "2020-07-01     8.6\n",
       "2020-08-01     8.8\n",
       "2020-09-01     5.5\n",
       "2020-10-01     4.9\n",
       "2020-11-01     5.0\n",
       "2020-12-01     6.9\n",
       "Name: Value, dtype: float64"
      ]
     },
     "execution_count": 22,
     "metadata": {},
     "output_type": "execute_result"
    }
   ],
   "source": [
    "avg_rater = by_year['Value'].mean()\n",
    "avg_rater"
   ]
  },
  {
   "cell_type": "code",
   "execution_count": null,
   "id": "ordinary-greek",
   "metadata": {},
   "outputs": [],
   "source": []
  },
  {
   "cell_type": "code",
   "execution_count": 13,
   "id": "located-discharge",
   "metadata": {
    "scrolled": true
   },
   "outputs": [
    {
     "data": {
      "text/plain": [
       "Date\n",
       "2019-01-01     4.30%\n",
       "2019-02-01     4.00%\n",
       "2019-03-01     4.20%\n",
       "2019-04-01     3.10%\n",
       "2019-05-01     3.40%\n",
       "2019-06-01     3.80%\n",
       "2019-07-01     4.50%\n",
       "2019-08-01     4.00%\n",
       "2019-09-01     3.00%\n",
       "2019-10-01     3.20%\n",
       "2019-11-01     3.40%\n",
       "2019-12-01     3.70%\n",
       "2020-01-01     4.30%\n",
       "2020-02-01     3.90%\n",
       "2020-03-01     4.40%\n",
       "2020-04-01    11.40%\n",
       "2020-05-01    11.60%\n",
       "2020-06-01     8.80%\n",
       "2020-07-01     8.60%\n",
       "2020-08-01     8.80%\n",
       "2020-09-01     5.50%\n",
       "2020-10-01     4.90%\n",
       "2020-11-01     5.00%\n",
       "2020-12-01     6.90%\n",
       "Name: Average Unemployment Rate, dtype: object"
      ]
     },
     "execution_count": 13,
     "metadata": {},
     "output_type": "execute_result"
    }
   ],
   "source": [
    "sum_df = pd.DataFrame({\"Average Unemployment Rate\": avg_rater})\n",
    "sum_df = sum_df[\"Average Unemployment Rate\"].map('{:.2f}%'.format)\n",
    "sum_df"
   ]
  },
  {
   "cell_type": "code",
   "execution_count": 21,
   "id": "twelve-chuck",
   "metadata": {},
   "outputs": [
    {
     "name": "stdout",
     "output_type": "stream",
     "text": [
      "Date\n",
      "2019-01-01     4.30%\n",
      "2019-02-01     4.00%\n",
      "2019-03-01     4.20%\n",
      "2019-04-01     3.10%\n",
      "2019-05-01     3.40%\n",
      "2019-06-01     3.80%\n",
      "2019-07-01     4.50%\n",
      "2019-08-01     4.00%\n",
      "2019-09-01     3.00%\n",
      "2019-10-01     3.20%\n",
      "2019-11-01     3.40%\n",
      "2019-12-01     3.70%\n",
      "2020-01-01     4.30%\n",
      "2020-02-01     3.90%\n",
      "2020-03-01     4.40%\n",
      "2020-04-01    11.40%\n",
      "2020-05-01    11.60%\n",
      "2020-06-01     8.80%\n",
      "2020-07-01     8.60%\n",
      "2020-08-01     8.80%\n",
      "2020-09-01     5.50%\n",
      "2020-10-01     4.90%\n",
      "2020-11-01     5.00%\n",
      "2020-12-01     6.90%\n",
      "Name: Average Unemployment Rate, dtype: object\n"
     ]
    }
   ],
   "source": [
    "print(sum_df).in"
   ]
  },
  {
   "cell_type": "code",
   "execution_count": null,
   "id": "tight-nursery",
   "metadata": {},
   "outputs": [],
   "source": [
    "        # Total Unemployment in Kansas City in 2019 & 2020"
   ]
  },
  {
   "cell_type": "code",
   "execution_count": 239,
   "id": "integral-framing",
   "metadata": {},
   "outputs": [
    {
     "data": {
      "text/plain": [
       "<pandas.core.groupby.generic.DataFrameGroupBy object at 0x000001F0AA87FDA0>"
      ]
     },
     "execution_count": 239,
     "metadata": {},
     "output_type": "execute_result"
    }
   ],
   "source": [
    "total_yr = TotalUnemployment.set_index(\"Year\").groupby([\"Year\"])\n",
    "total_yr"
   ]
  },
  {
   "cell_type": "code",
   "execution_count": 242,
   "id": "sunrise-worse",
   "metadata": {},
   "outputs": [
    {
     "data": {
      "text/plain": [
       "Year\n",
       "2019    13530.500000\n",
       "2020    25245.833333\n",
       "Name: Value, dtype: float64"
      ]
     },
     "execution_count": 242,
     "metadata": {},
     "output_type": "execute_result"
    }
   ],
   "source": [
    "TotalUnempAvg = total_yr['Value'].mean()\n",
    "TotalUnempAvg"
   ]
  },
  {
   "cell_type": "code",
   "execution_count": 247,
   "id": "prepared-orbit",
   "metadata": {},
   "outputs": [
    {
     "data": {
      "text/plain": [
       "Year\n",
       "2019    13530.5\n",
       "2020    25245.8\n",
       "Name: Average Unemployed, dtype: object"
      ]
     },
     "execution_count": 247,
     "metadata": {},
     "output_type": "execute_result"
    }
   ],
   "source": [
    "total_avg = pd.DataFrame({\"Average Unemployed\": TotalUnempAvg})\n",
    "total_avg = total_avg[\"Average Unemployed\"].map('{:.1f}'.format)\n",
    "total_avg"
   ]
  },
  {
   "cell_type": "code",
   "execution_count": 248,
   "id": "entitled-investing",
   "metadata": {},
   "outputs": [],
   "source": [
    "        # By Label"
   ]
  },
  {
   "cell_type": "code",
   "execution_count": 253,
   "id": "median-edwards",
   "metadata": {},
   "outputs": [
    {
     "data": {
      "text/plain": [
       "<pandas.core.groupby.generic.DataFrameGroupBy object at 0x000001F0AA8AB630>"
      ]
     },
     "execution_count": 253,
     "metadata": {},
     "output_type": "execute_result"
    }
   ],
   "source": [
    "label_grouped = UnemploymentRate.groupby(\"Label\")\n",
    "label_grouped"
   ]
  },
  {
   "cell_type": "code",
   "execution_count": 254,
   "id": "opponent-miracle",
   "metadata": {},
   "outputs": [
    {
     "data": {
      "text/plain": [
       "Label\n",
       "2019 Apr     3.1\n",
       "2019 Aug     4.0\n",
       "2019 Dec     3.7\n",
       "2019 Feb     4.0\n",
       "2019 Jan     4.3\n",
       "2019 Jul     4.5\n",
       "2019 Jun     3.8\n",
       "2019 Mar     4.2\n",
       "2019 May     3.4\n",
       "2019 Nov     3.4\n",
       "2019 Oct     3.2\n",
       "2019 Sep     3.0\n",
       "2020 Apr    11.4\n",
       "2020 Aug     8.8\n",
       "2020 Dec     6.9\n",
       "2020 Feb     3.9\n",
       "2020 Jan     4.3\n",
       "2020 Jul     8.6\n",
       "2020 Jun     8.8\n",
       "2020 Mar     4.4\n",
       "2020 May    11.6\n",
       "2020 Nov     5.0\n",
       "2020 Oct     4.9\n",
       "2020 Sep     5.5\n",
       "Name: Value, dtype: float64"
      ]
     },
     "execution_count": 254,
     "metadata": {},
     "output_type": "execute_result"
    }
   ],
   "source": []
  },
  {
   "cell_type": "code",
   "execution_count": null,
   "id": "allied-suicide",
   "metadata": {},
   "outputs": [],
   "source": []
  }
 ],
 "metadata": {
  "kernelspec": {
   "display_name": "Python 3",
   "language": "python",
   "name": "python3"
  },
  "language_info": {
   "codemirror_mode": {
    "name": "ipython",
    "version": 3
   },
   "file_extension": ".py",
   "mimetype": "text/x-python",
   "name": "python",
   "nbconvert_exporter": "python",
   "pygments_lexer": "ipython3",
   "version": "3.6.12"
  }
 },
 "nbformat": 4,
 "nbformat_minor": 5
}
