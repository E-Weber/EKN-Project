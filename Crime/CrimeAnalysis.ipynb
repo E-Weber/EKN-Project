{
 "cells": [
  {
   "cell_type": "code",
   "execution_count": 1,
   "metadata": {},
   "outputs": [],
   "source": [
    "import requests\n",
    "import json\n",
    "import matplotlib.pyplot as plt\n",
    "import pandas as pd\n",
    "import numpy as np\n",
    "import time\n",
    "from scipy.stats import linregress\n",
    "import datetime"
   ]
  },
  {
   "cell_type": "code",
   "execution_count": 67,
   "metadata": {},
   "outputs": [],
   "source": [
    "from_dates = [\"2019-10-1\", \"2019-11-1\", \"2019-12-1\", \"2020-1-1\", \"2020-2-1\", \"2020-3-1\", \"2020-4-1\", \"2020-5-1\", \"2020-6-1\", \"2020-7-1\", \"2020-8-1\", \"2020-9-1\", \"2020-10-1\", \"2020-11-1\", \"2020-12-1\"]\n",
    "to_dates = [\"2019-10-31\", \"2019-11-30\", \"2019-12-31\", \"2020-1-31\", \"2020-2-29\", \"2020-3-31\", \"2020-4-30\", \"2020-5-31\", \"2020-6-30\", \"2020-7-31\", \"2020-8-31\", \"2020-9-30\", \"2020-10-31\", \"2020-11-30\", \"2020-12-31\"]"
   ]
  },
  {
   "cell_type": "code",
   "execution_count": 77,
   "metadata": {},
   "outputs": [
    {
     "name": "stdout",
     "output_type": "stream",
     "text": [
      "2019-10-1T00:00:00.000Z\n",
      "2019-10-31T23:59:59.999Z\n",
      "97\n",
      "2019-11-1T00:00:00.000Z\n",
      "2019-11-30T23:59:59.999Z\n",
      "113\n",
      "2019-12-1T00:00:00.000Z\n",
      "2019-12-31T23:59:59.999Z\n",
      "133\n",
      "2020-1-1T00:00:00.000Z\n",
      "2020-1-31T23:59:59.999Z\n",
      "0\n",
      "2020-2-1T00:00:00.000Z\n",
      "2020-2-29T23:59:59.999Z\n",
      "0\n",
      "2020-3-1T00:00:00.000Z\n",
      "2020-3-31T23:59:59.999Z\n",
      "0\n",
      "2020-4-1T00:00:00.000Z\n",
      "2020-4-30T23:59:59.999Z\n",
      "0\n",
      "2020-5-1T00:00:00.000Z\n",
      "2020-5-31T23:59:59.999Z\n",
      "0\n",
      "2020-6-1T00:00:00.000Z\n",
      "2020-6-30T23:59:59.999Z\n",
      "0\n",
      "2020-7-1T00:00:00.000Z\n",
      "2020-7-31T23:59:59.999Z\n",
      "0\n",
      "2020-8-1T00:00:00.000Z\n",
      "2020-8-31T23:59:59.999Z\n",
      "0\n",
      "2020-9-1T00:00:00.000Z\n",
      "2020-9-30T23:59:59.999Z\n",
      "0\n",
      "2020-10-1T00:00:00.000Z\n",
      "2020-10-31T23:59:59.999Z\n",
      "12485\n",
      "2020-11-1T00:00:00.000Z\n",
      "2020-11-30T23:59:59.999Z\n",
      "13832\n",
      "2020-12-1T00:00:00.000Z\n",
      "2020-12-31T23:59:59.999Z\n",
      "15203\n"
     ]
    }
   ],
   "source": [
    "for i, j in zip(from_dates, to_dates):\n",
    "    from_date = i + \"T00:00:00.000Z\"\n",
    "    to_date = j + \"T23:59:59.999Z\"\n",
    "    print(from_date)\n",
    "    print(to_date)\n",
    "    payload = {}\n",
    "    from_date = from_date\n",
    "    to_date = to_date\n",
    "    pageSize = \"100000\"\n",
    "    payload[\"limit\"] = pageSize\n",
    "    payload[\"offset\"] = 0\n",
    "    payload[\"geoJson\"] = {\"type\": \"Polygon\", \"coordinates\": [[[-94.32951884471989, 38.996363264325836], [-94.64880900585229, 38.996363264325836], [-94.64880900585229, 39.080896419140764], [-94.32951884471989, 39.080896419140764], [-94.32951884471989, 38.996363264325836]]]}\n",
    "    payload[\"projection\"]= \"true\"\n",
    "    payload[\"propertyMap\"] = {\"toDate\": to_date, \"fromDate\": from_date, \"pageSize\": pageSize, \"parentIncidentTypeIds\": \"149,150,148,8,97,104,165,98,100,179,178,180,101,99,103,163,168,166,12,161,14,16,15\", \"zoomLevel\": \"12\", \"latitude\": \"39.03864248355025\", \"longitude\": \"-94.48916392528609\", \"days\": \"1,2,3,4,5,6,7\", \"startHour\": \"0\", \"endHour\": \"24\", \"timezone\": \"+00:00\", \"relativeDate\": \"custom\", \"agencyIds\": \"47860,1279,957,165,118,undefined,undefined\"}\n",
    "    url = \"https://ce-portal-service.commandcentral.com/api/v1.0/public/incidents\"\n",
    "    headers = {'Content-Type': 'application/json'}\n",
    "    payload  = json.dumps(payload)\n",
    "    response = requests.request(\"POST\", url, data=payload, headers=headers)\n",
    "    print(len(response.json()['result']['list']['incidents']))"
   ]
  },
  {
   "cell_type": "code",
   "execution_count": null,
   "metadata": {},
   "outputs": [],
   "source": [
    "crime_df = pd.DataFrame(response.json()['result']['list']['incidents'])\n",
    "crime_df.head()"
   ]
  },
  {
   "cell_type": "code",
   "execution_count": null,
   "metadata": {},
   "outputs": [],
   "source": [
    "crime_types = pd.DataFrame(crime_df['parentIncidentType'].value_counts())\n",
    "crime_types.rename(columns = {'parentIncidentType': 'Incident Type'})"
   ]
  },
  {
   "cell_type": "code",
   "execution_count": null,
   "metadata": {},
   "outputs": [],
   "source": []
  }
 ],
 "metadata": {
  "kernelspec": {
   "display_name": "Python 3",
   "language": "python",
   "name": "python3"
  },
  "language_info": {
   "codemirror_mode": {
    "name": "ipython",
    "version": 3
   },
   "file_extension": ".py",
   "mimetype": "text/x-python",
   "name": "python",
   "nbconvert_exporter": "python",
   "pygments_lexer": "ipython3",
   "version": "3.8.5"
  }
 },
 "nbformat": 4,
 "nbformat_minor": 4
}
