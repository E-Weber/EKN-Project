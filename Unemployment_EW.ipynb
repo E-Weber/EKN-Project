{
 "cells": [
  {
   "cell_type": "code",
   "execution_count": 1,
   "id": "chemical-australian",
   "metadata": {
    "scrolled": true
   },
   "outputs": [],
   "source": [
    "# Dependencies and Setup\n",
    "import pandas as pd\n",
    "import numpy as np\n",
    "import matplotlib.pyplot as plt\n",
    "import scipy.stats as st\n",
    "from scipy.stats import linregress\n",
    "from scipy.stats import sem\n",
    "import matplotlib.dates as mdates\n",
    "import datetime as dt\n",
    "\n",
    "# File to Load (Remember to Change These)\n",
    "file1 = \"./Unemployment_EW/Data/UnemploymentRate.csv\"\n",
    "file2 = \"./Unemployment_EW/Data/TotalUnemployment.csv\"\n",
    "UnemploymentRate = pd.read_csv(file1)\n",
    "TotalUnemployment = pd.read_csv(file2)\n",
    "#UnemploymentRate.head()\n",
    "#TotalUnemployment.head()\n"
   ]
  },
  {
   "cell_type": "code",
   "execution_count": 2,
   "id": "straight-coast",
   "metadata": {},
   "outputs": [
    {
     "name": "stdout",
     "output_type": "stream",
     "text": [
      "<class 'pandas.core.frame.DataFrame'>\n",
      "RangeIndex: 24 entries, 0 to 23\n",
      "Data columns (total 3 columns):\n",
      " #   Column     Non-Null Count  Dtype  \n",
      "---  ------     --------------  -----  \n",
      " 0   Series ID  24 non-null     object \n",
      " 1   Date       24 non-null     object \n",
      " 2   Value      24 non-null     float64\n",
      "dtypes: float64(1), object(2)\n",
      "memory usage: 704.0+ bytes\n"
     ]
    }
   ],
   "source": [
    "UnemploymentRate.info()"
   ]
  },
  {
   "cell_type": "code",
   "execution_count": 3,
   "id": "substantial-theme",
   "metadata": {
    "scrolled": true
   },
   "outputs": [
    {
     "data": {
      "text/html": [
       "<div>\n",
       "<style scoped>\n",
       "    .dataframe tbody tr th:only-of-type {\n",
       "        vertical-align: middle;\n",
       "    }\n",
       "\n",
       "    .dataframe tbody tr th {\n",
       "        vertical-align: top;\n",
       "    }\n",
       "\n",
       "    .dataframe thead th {\n",
       "        text-align: right;\n",
       "    }\n",
       "</style>\n",
       "<table border=\"1\" class=\"dataframe\">\n",
       "  <thead>\n",
       "    <tr style=\"text-align: right;\">\n",
       "      <th></th>\n",
       "      <th>Series ID</th>\n",
       "      <th>Date</th>\n",
       "      <th>Value</th>\n",
       "    </tr>\n",
       "  </thead>\n",
       "  <tbody>\n",
       "    <tr>\n",
       "      <th>0</th>\n",
       "      <td>LAUCN290950000000003</td>\n",
       "      <td>2019-01-01</td>\n",
       "      <td>4.3</td>\n",
       "    </tr>\n",
       "    <tr>\n",
       "      <th>1</th>\n",
       "      <td>LAUCN290950000000003</td>\n",
       "      <td>2019-02-01</td>\n",
       "      <td>4.0</td>\n",
       "    </tr>\n",
       "    <tr>\n",
       "      <th>2</th>\n",
       "      <td>LAUCN290950000000003</td>\n",
       "      <td>2019-03-01</td>\n",
       "      <td>4.2</td>\n",
       "    </tr>\n",
       "    <tr>\n",
       "      <th>3</th>\n",
       "      <td>LAUCN290950000000003</td>\n",
       "      <td>2019-04-01</td>\n",
       "      <td>3.1</td>\n",
       "    </tr>\n",
       "    <tr>\n",
       "      <th>4</th>\n",
       "      <td>LAUCN290950000000003</td>\n",
       "      <td>2019-05-01</td>\n",
       "      <td>3.4</td>\n",
       "    </tr>\n",
       "  </tbody>\n",
       "</table>\n",
       "</div>"
      ],
      "text/plain": [
       "              Series ID        Date  Value\n",
       "0  LAUCN290950000000003  2019-01-01    4.3\n",
       "1  LAUCN290950000000003  2019-02-01    4.0\n",
       "2  LAUCN290950000000003  2019-03-01    4.2\n",
       "3  LAUCN290950000000003  2019-04-01    3.1\n",
       "4  LAUCN290950000000003  2019-05-01    3.4"
      ]
     },
     "execution_count": 3,
     "metadata": {},
     "output_type": "execute_result"
    }
   ],
   "source": [
    "rate_df = pd.DataFrame(UnemploymentRate)\n",
    "rate_df.head(5)                     "
   ]
  },
  {
   "cell_type": "code",
   "execution_count": 40,
   "id": "liked-billion",
   "metadata": {},
   "outputs": [
    {
     "data": {
      "text/html": [
       "<div>\n",
       "<style scoped>\n",
       "    .dataframe tbody tr th:only-of-type {\n",
       "        vertical-align: middle;\n",
       "    }\n",
       "\n",
       "    .dataframe tbody tr th {\n",
       "        vertical-align: top;\n",
       "    }\n",
       "\n",
       "    .dataframe thead th {\n",
       "        text-align: right;\n",
       "    }\n",
       "</style>\n",
       "<table border=\"1\" class=\"dataframe\">\n",
       "  <thead>\n",
       "    <tr style=\"text-align: right;\">\n",
       "      <th></th>\n",
       "      <th>Series ID</th>\n",
       "      <th>Date</th>\n",
       "      <th>Value</th>\n",
       "    </tr>\n",
       "  </thead>\n",
       "  <tbody>\n",
       "    <tr>\n",
       "      <th>0</th>\n",
       "      <td>LAUCN290950000000003</td>\n",
       "      <td>2019-01-01</td>\n",
       "      <td>4.3</td>\n",
       "    </tr>\n",
       "    <tr>\n",
       "      <th>1</th>\n",
       "      <td>LAUCN290950000000003</td>\n",
       "      <td>2019-02-01</td>\n",
       "      <td>4.0</td>\n",
       "    </tr>\n",
       "    <tr>\n",
       "      <th>2</th>\n",
       "      <td>LAUCN290950000000003</td>\n",
       "      <td>2019-03-01</td>\n",
       "      <td>4.2</td>\n",
       "    </tr>\n",
       "    <tr>\n",
       "      <th>3</th>\n",
       "      <td>LAUCN290950000000003</td>\n",
       "      <td>2019-04-01</td>\n",
       "      <td>3.1</td>\n",
       "    </tr>\n",
       "    <tr>\n",
       "      <th>4</th>\n",
       "      <td>LAUCN290950000000003</td>\n",
       "      <td>2019-05-01</td>\n",
       "      <td>3.4</td>\n",
       "    </tr>\n",
       "    <tr>\n",
       "      <th>5</th>\n",
       "      <td>LAUCN290950000000003</td>\n",
       "      <td>2019-06-01</td>\n",
       "      <td>3.8</td>\n",
       "    </tr>\n",
       "    <tr>\n",
       "      <th>6</th>\n",
       "      <td>LAUCN290950000000003</td>\n",
       "      <td>2019-07-01</td>\n",
       "      <td>4.5</td>\n",
       "    </tr>\n",
       "    <tr>\n",
       "      <th>7</th>\n",
       "      <td>LAUCN290950000000003</td>\n",
       "      <td>2019-08-01</td>\n",
       "      <td>4.0</td>\n",
       "    </tr>\n",
       "    <tr>\n",
       "      <th>8</th>\n",
       "      <td>LAUCN290950000000003</td>\n",
       "      <td>2019-09-01</td>\n",
       "      <td>3.0</td>\n",
       "    </tr>\n",
       "    <tr>\n",
       "      <th>9</th>\n",
       "      <td>LAUCN290950000000003</td>\n",
       "      <td>2019-10-01</td>\n",
       "      <td>3.2</td>\n",
       "    </tr>\n",
       "    <tr>\n",
       "      <th>10</th>\n",
       "      <td>LAUCN290950000000003</td>\n",
       "      <td>2019-11-01</td>\n",
       "      <td>3.4</td>\n",
       "    </tr>\n",
       "    <tr>\n",
       "      <th>11</th>\n",
       "      <td>LAUCN290950000000003</td>\n",
       "      <td>2019-12-01</td>\n",
       "      <td>3.7</td>\n",
       "    </tr>\n",
       "  </tbody>\n",
       "</table>\n",
       "</div>"
      ],
      "text/plain": [
       "               Series ID       Date  Value\n",
       "0   LAUCN290950000000003 2019-01-01    4.3\n",
       "1   LAUCN290950000000003 2019-02-01    4.0\n",
       "2   LAUCN290950000000003 2019-03-01    4.2\n",
       "3   LAUCN290950000000003 2019-04-01    3.1\n",
       "4   LAUCN290950000000003 2019-05-01    3.4\n",
       "5   LAUCN290950000000003 2019-06-01    3.8\n",
       "6   LAUCN290950000000003 2019-07-01    4.5\n",
       "7   LAUCN290950000000003 2019-08-01    4.0\n",
       "8   LAUCN290950000000003 2019-09-01    3.0\n",
       "9   LAUCN290950000000003 2019-10-01    3.2\n",
       "10  LAUCN290950000000003 2019-11-01    3.4\n",
       "11  LAUCN290950000000003 2019-12-01    3.7"
      ]
     },
     "execution_count": 40,
     "metadata": {},
     "output_type": "execute_result"
    }
   ],
   "source": [
    "        # Average Unemployment in KC for 2019\n",
    "top = rate_df.loc[0:11]\n",
    "top"
   ]
  },
  {
   "cell_type": "code",
   "execution_count": 41,
   "id": "advance-prize",
   "metadata": {},
   "outputs": [
    {
     "name": "stdout",
     "output_type": "stream",
     "text": [
      "Average unemployment rate in Kansas City for 2019 was 3.716666666666667\n"
     ]
    }
   ],
   "source": [
    "        # Average Unemployment rate in Kansas City in 2019\n",
    "Tvalue = top['Value'].sum()\n",
    "Avg_rate1 = Tvalue/12\n",
    "#Avg_rate1 = Avg_rate1.map('{:.1f}%'.format)\n",
    "print(f'Average unemployment rate in Kansas City for 2019 was {Avg_rate1}')"
   ]
  },
  {
   "cell_type": "code",
   "execution_count": 42,
   "id": "multiple-madison",
   "metadata": {},
   "outputs": [
    {
     "data": {
      "text/plain": [
       "<Figure size 432x288 with 0 Axes>"
      ]
     },
     "metadata": {},
     "output_type": "display_data"
    },
    {
     "data": {
      "image/png": "[encoded data removed]",
      "text/plain": [
       "<Figure size 1440x360 with 1 Axes>"
      ]
     },
     "metadata": {
      "needs_background": "light"
     },
     "output_type": "display_data"
    }
   ],
   "source": [
    "plt.figure()\n",
    "plt.figure(figsize=(20,5))\n",
    "plt.plot(top['Date'], top['Value'])\n",
    "ax = plt.gca()\n",
    "ax.xaxis.set_major_locator(mdates.MonthLocator(interval=1))\n",
    "#ax.xaxis.set_major_formatter(mdates.DateFormatter('%Y-%D-%M'))\n",
    "#plt.gcf().autofmt_xdate() # Rotation\n",
    "plt.grid(True)\n",
    "plt.show()"
   ]
  },
  {
   "cell_type": "code",
   "execution_count": 6,
   "id": "nearby-crisis",
   "metadata": {
    "scrolled": true
   },
   "outputs": [
    {
     "data": {
      "text/html": [
       "<div>\n",
       "<style scoped>\n",
       "    .dataframe tbody tr th:only-of-type {\n",
       "        vertical-align: middle;\n",
       "    }\n",
       "\n",
       "    .dataframe tbody tr th {\n",
       "        vertical-align: top;\n",
       "    }\n",
       "\n",
       "    .dataframe thead th {\n",
       "        text-align: right;\n",
       "    }\n",
       "</style>\n",
       "<table border=\"1\" class=\"dataframe\">\n",
       "  <thead>\n",
       "    <tr style=\"text-align: right;\">\n",
       "      <th></th>\n",
       "      <th>Series ID</th>\n",
       "      <th>Date</th>\n",
       "      <th>Value</th>\n",
       "    </tr>\n",
       "  </thead>\n",
       "  <tbody>\n",
       "    <tr>\n",
       "      <th>12</th>\n",
       "      <td>LAUCN290950000000003</td>\n",
       "      <td>2020-01-01</td>\n",
       "      <td>4.3</td>\n",
       "    </tr>\n",
       "    <tr>\n",
       "      <th>13</th>\n",
       "      <td>LAUCN290950000000003</td>\n",
       "      <td>2020-02-01</td>\n",
       "      <td>3.9</td>\n",
       "    </tr>\n",
       "    <tr>\n",
       "      <th>14</th>\n",
       "      <td>LAUCN290950000000003</td>\n",
       "      <td>2020-03-01</td>\n",
       "      <td>4.4</td>\n",
       "    </tr>\n",
       "    <tr>\n",
       "      <th>15</th>\n",
       "      <td>LAUCN290950000000003</td>\n",
       "      <td>2020-04-01</td>\n",
       "      <td>11.4</td>\n",
       "    </tr>\n",
       "    <tr>\n",
       "      <th>16</th>\n",
       "      <td>LAUCN290950000000003</td>\n",
       "      <td>2020-05-01</td>\n",
       "      <td>11.6</td>\n",
       "    </tr>\n",
       "    <tr>\n",
       "      <th>17</th>\n",
       "      <td>LAUCN290950000000003</td>\n",
       "      <td>2020-06-01</td>\n",
       "      <td>8.8</td>\n",
       "    </tr>\n",
       "    <tr>\n",
       "      <th>18</th>\n",
       "      <td>LAUCN290950000000003</td>\n",
       "      <td>2020-07-01</td>\n",
       "      <td>8.6</td>\n",
       "    </tr>\n",
       "    <tr>\n",
       "      <th>19</th>\n",
       "      <td>LAUCN290950000000003</td>\n",
       "      <td>2020-08-01</td>\n",
       "      <td>8.8</td>\n",
       "    </tr>\n",
       "    <tr>\n",
       "      <th>20</th>\n",
       "      <td>LAUCN290950000000003</td>\n",
       "      <td>2020-09-01</td>\n",
       "      <td>5.5</td>\n",
       "    </tr>\n",
       "    <tr>\n",
       "      <th>21</th>\n",
       "      <td>LAUCN290950000000003</td>\n",
       "      <td>2020-10-01</td>\n",
       "      <td>4.9</td>\n",
       "    </tr>\n",
       "    <tr>\n",
       "      <th>22</th>\n",
       "      <td>LAUCN290950000000003</td>\n",
       "      <td>2020-11-01</td>\n",
       "      <td>5.0</td>\n",
       "    </tr>\n",
       "    <tr>\n",
       "      <th>23</th>\n",
       "      <td>LAUCN290950000000003</td>\n",
       "      <td>2020-12-01</td>\n",
       "      <td>6.9</td>\n",
       "    </tr>\n",
       "  </tbody>\n",
       "</table>\n",
       "</div>"
      ],
      "text/plain": [
       "               Series ID        Date  Value\n",
       "12  LAUCN290950000000003  2020-01-01    4.3\n",
       "13  LAUCN290950000000003  2020-02-01    3.9\n",
       "14  LAUCN290950000000003  2020-03-01    4.4\n",
       "15  LAUCN290950000000003  2020-04-01   11.4\n",
       "16  LAUCN290950000000003  2020-05-01   11.6\n",
       "17  LAUCN290950000000003  2020-06-01    8.8\n",
       "18  LAUCN290950000000003  2020-07-01    8.6\n",
       "19  LAUCN290950000000003  2020-08-01    8.8\n",
       "20  LAUCN290950000000003  2020-09-01    5.5\n",
       "21  LAUCN290950000000003  2020-10-01    4.9\n",
       "22  LAUCN290950000000003  2020-11-01    5.0\n",
       "23  LAUCN290950000000003  2020-12-01    6.9"
      ]
     },
     "execution_count": 6,
     "metadata": {},
     "output_type": "execute_result"
    }
   ],
   "source": [
    "                # 2020 Unemployment rate information\n",
    "bottom = rate_df.loc[12:23]\n",
    "bottom"
   ]
  },
  {
   "cell_type": "code",
   "execution_count": 7,
   "id": "amazing-digit",
   "metadata": {},
   "outputs": [
    {
     "data": {
      "text/plain": [
       "84.10000000000001"
      ]
     },
     "execution_count": 7,
     "metadata": {},
     "output_type": "execute_result"
    }
   ],
   "source": [
    "Bvalue = bottom['Value'].sum()\n",
    "Bvalue"
   ]
  },
  {
   "cell_type": "code",
   "execution_count": 8,
   "id": "presidential-gospel",
   "metadata": {},
   "outputs": [
    {
     "name": "stdout",
     "output_type": "stream",
     "text": [
      "Average unemployment rate in Kansas City for 2020 was 7.008333333333334\n"
     ]
    }
   ],
   "source": [
    "        # Average Unemployment rate in Kansas City in 2020\n",
    "Bvalue = bottom['Value'].sum()\n",
    "Avg_rate2 = Bvalue/12\n",
    "#Avg_rate2 = Avg_rate2.map('{:.1f}%'.format)\n",
    "print(f'Average unemployment rate in Kansas City for 2020 was {Avg_rate2}')"
   ]
  },
  {
   "cell_type": "code",
   "execution_count": null,
   "id": "sticky-acceptance",
   "metadata": {},
   "outputs": [],
   "source": [
    "plt.figure()\n",
    "plt.figure(figsize=(20,5))\n",
    "plt.plot(bottom['Date'],bottom['Value'])\n",
    "ax = plt.gca()\n",
    "#ax.xaxis.set_major_locator(mdates.MonthLocator(interval=1))\n",
    "#ax.xaxis.set_major_formatter(mdates.DateFormatter('%Y-%D-%M'))\n",
    "#plt.gcf().autofmt_xdate() # Rotation\n",
    "plt.grid(True)\n",
    "plt.show()"
   ]
  },
  {
   "cell_type": "code",
   "execution_count": 9,
   "id": "behind-complement",
   "metadata": {},
   "outputs": [],
   "source": [
    "        # Average Unemployment rate in KC in 2019 & 2020"
   ]
  },
  {
   "cell_type": "code",
   "execution_count": 11,
   "id": "secret-insight",
   "metadata": {},
   "outputs": [
    {
     "data": {
      "text/plain": [
       "<pandas.core.groupby.generic.DataFrameGroupBy object at 0x000001D984EA7BA8>"
      ]
     },
     "execution_count": 11,
     "metadata": {},
     "output_type": "execute_result"
    }
   ],
   "source": [
    "by_year = UnemploymentRate.set_index(\"Date\").groupby([\"Date\"])\n",
    "by_year"
   ]
  },
  {
   "cell_type": "code",
   "execution_count": 23,
   "id": "twenty-things",
   "metadata": {},
   "outputs": [
    {
     "data": {
      "text/plain": [
       "0    2019-01-01\n",
       "1    2019-02-01\n",
       "2    2019-03-01\n",
       "3    2019-04-01\n",
       "4    2019-05-01\n",
       "5    2019-06-01\n",
       "6    2019-07-01\n",
       "7    2019-08-01\n",
       "8    2019-09-01\n",
       "9    2019-10-01\n",
       "10   2019-11-01\n",
       "11   2019-12-01\n",
       "12   2020-01-01\n",
       "13   2020-02-01\n",
       "14   2020-03-01\n",
       "15   2020-04-01\n",
       "16   2020-05-01\n",
       "17   2020-06-01\n",
       "18   2020-07-01\n",
       "19   2020-08-01\n",
       "20   2020-09-01\n",
       "21   2020-10-01\n",
       "22   2020-11-01\n",
       "23   2020-12-01\n",
       "Name: Date, dtype: datetime64[ns]"
      ]
     },
     "execution_count": 23,
     "metadata": {},
     "output_type": "execute_result"
    }
   ],
   "source": [
    "pd.to_datetime(rate_df[\"Date\"])"
   ]
  },
  {
   "cell_type": "code",
   "execution_count": null,
   "id": "blessed-mitchell",
   "metadata": {},
   "outputs": [],
   "source": []
  },
  {
   "cell_type": "code",
   "execution_count": 27,
   "id": "authorized-syndication",
   "metadata": {},
   "outputs": [],
   "source": [
    "rate_df [\"Date\"] = pd.to_datetime(rate_df[\"Date\"])"
   ]
  },
  {
   "cell_type": "code",
   "execution_count": 33,
   "id": "offensive-chapel",
   "metadata": {},
   "outputs": [
    {
     "data": {
      "text/html": [
       "<div>\n",
       "<style scoped>\n",
       "    .dataframe tbody tr th:only-of-type {\n",
       "        vertical-align: middle;\n",
       "    }\n",
       "\n",
       "    .dataframe tbody tr th {\n",
       "        vertical-align: top;\n",
       "    }\n",
       "\n",
       "    .dataframe thead th {\n",
       "        text-align: right;\n",
       "    }\n",
       "</style>\n",
       "<table border=\"1\" class=\"dataframe\">\n",
       "  <thead>\n",
       "    <tr style=\"text-align: right;\">\n",
       "      <th></th>\n",
       "      <th>Series ID</th>\n",
       "      <th>Date</th>\n",
       "      <th>Value</th>\n",
       "    </tr>\n",
       "  </thead>\n",
       "  <tbody>\n",
       "    <tr>\n",
       "      <th>13</th>\n",
       "      <td>LAUCN290950000000003</td>\n",
       "      <td>2020-02-01</td>\n",
       "      <td>3.9</td>\n",
       "    </tr>\n",
       "    <tr>\n",
       "      <th>14</th>\n",
       "      <td>LAUCN290950000000003</td>\n",
       "      <td>2020-03-01</td>\n",
       "      <td>4.4</td>\n",
       "    </tr>\n",
       "  </tbody>\n",
       "</table>\n",
       "</div>"
      ],
      "text/plain": [
       "               Series ID       Date  Value\n",
       "13  LAUCN290950000000003 2020-02-01    3.9\n",
       "14  LAUCN290950000000003 2020-03-01    4.4"
      ]
     },
     "execution_count": 33,
     "metadata": {},
     "output_type": "execute_result"
    }
   ],
   "source": [
    "before_df = rate_df[(rate_df['Date'] > '2020-01-1') & (rate_df['Date'] <= '2020-03-16')]\n",
    "before_df"
   ]
  },
  {
   "cell_type": "code",
   "execution_count": 35,
   "id": "european-paradise",
   "metadata": {},
   "outputs": [
    {
     "data": {
      "text/html": [
       "<div>\n",
       "<style scoped>\n",
       "    .dataframe tbody tr th:only-of-type {\n",
       "        vertical-align: middle;\n",
       "    }\n",
       "\n",
       "    .dataframe tbody tr th {\n",
       "        vertical-align: top;\n",
       "    }\n",
       "\n",
       "    .dataframe thead th {\n",
       "        text-align: right;\n",
       "    }\n",
       "</style>\n",
       "<table border=\"1\" class=\"dataframe\">\n",
       "  <thead>\n",
       "    <tr style=\"text-align: right;\">\n",
       "      <th></th>\n",
       "      <th>Series ID</th>\n",
       "      <th>Date</th>\n",
       "      <th>Value</th>\n",
       "    </tr>\n",
       "  </thead>\n",
       "  <tbody>\n",
       "    <tr>\n",
       "      <th>15</th>\n",
       "      <td>LAUCN290950000000003</td>\n",
       "      <td>2020-04-01</td>\n",
       "      <td>11.4</td>\n",
       "    </tr>\n",
       "    <tr>\n",
       "      <th>16</th>\n",
       "      <td>LAUCN290950000000003</td>\n",
       "      <td>2020-05-01</td>\n",
       "      <td>11.6</td>\n",
       "    </tr>\n",
       "    <tr>\n",
       "      <th>17</th>\n",
       "      <td>LAUCN290950000000003</td>\n",
       "      <td>2020-06-01</td>\n",
       "      <td>8.8</td>\n",
       "    </tr>\n",
       "  </tbody>\n",
       "</table>\n",
       "</div>"
      ],
      "text/plain": [
       "               Series ID       Date  Value\n",
       "15  LAUCN290950000000003 2020-04-01   11.4\n",
       "16  LAUCN290950000000003 2020-05-01   11.6\n",
       "17  LAUCN290950000000003 2020-06-01    8.8"
      ]
     },
     "execution_count": 35,
     "metadata": {},
     "output_type": "execute_result"
    }
   ],
   "source": [
    "firstqtr_df = rate_df[(rate_df['Date'] >'2020-03-01') & (rate_df['Date'] <= '2020-06-30')]\n",
    "firstqtr_df"
   ]
  },
  {
   "cell_type": "code",
   "execution_count": 29,
   "id": "suited-fortune",
   "metadata": {},
   "outputs": [
    {
     "data": {
      "text/plain": [
       "<Figure size 432x288 with 0 Axes>"
      ]
     },
     "metadata": {},
     "output_type": "display_data"
    },
    {
     "data": {
      "image/png": "[encoded data removed]",
      "text/plain": [
       "<Figure size 1440x360 with 1 Axes>"
      ]
     },
     "metadata": {
      "needs_background": "light"
     },
     "output_type": "display_data"
    }
   ],
   "source": [
    "plt.figure()\n",
    "plt.figure(figsize=(20,5))\n",
    "plt.plot(rate_df['Date'], rate_df['Value'])\n",
    "ax = plt.gca()\n",
    "ax.xaxis.set_major_locator(mdates.MonthLocator(interval=1))\n",
    "#ax.xaxis.set_major_formatter(mdates.DateFormatter('%Y-%D-%M'))\n",
    "#plt.gcf().autofmt_xdate() # Rotation\n",
    "plt.grid(True)\n",
    "plt.show()"
   ]
  },
  {
   "cell_type": "code",
   "execution_count": null,
   "id": "impossible-twenty",
   "metadata": {},
   "outputs": [],
   "source": []
  },
  {
   "cell_type": "code",
   "execution_count": 22,
   "id": "conventional-grade",
   "metadata": {
    "scrolled": false
   },
   "outputs": [
    {
     "data": {
      "text/plain": [
       "Date\n",
       "2019-01-01     4.3\n",
       "2019-02-01     4.0\n",
       "2019-03-01     4.2\n",
       "2019-04-01     3.1\n",
       "2019-05-01     3.4\n",
       "2019-06-01     3.8\n",
       "2019-07-01     4.5\n",
       "2019-08-01     4.0\n",
       "2019-09-01     3.0\n",
       "2019-10-01     3.2\n",
       "2019-11-01     3.4\n",
       "2019-12-01     3.7\n",
       "2020-01-01     4.3\n",
       "2020-02-01     3.9\n",
       "2020-03-01     4.4\n",
       "2020-04-01    11.4\n",
       "2020-05-01    11.6\n",
       "2020-06-01     8.8\n",
       "2020-07-01     8.6\n",
       "2020-08-01     8.8\n",
       "2020-09-01     5.5\n",
       "2020-10-01     4.9\n",
       "2020-11-01     5.0\n",
       "2020-12-01     6.9\n",
       "Name: Value, dtype: float64"
      ]
     },
     "execution_count": 22,
     "metadata": {},
     "output_type": "execute_result"
    }
   ],
   "source": [
    "avg_rater = by_year['Value'].mean()\n",
    "avg_rater"
   ]
  },
  {
   "cell_type": "code",
   "execution_count": null,
   "id": "russian-platinum",
   "metadata": {},
   "outputs": [],
   "source": []
  },
  {
   "cell_type": "code",
   "execution_count": 13,
   "id": "superb-browse",
   "metadata": {
    "scrolled": true
   },
   "outputs": [
    {
     "data": {
      "text/plain": [
       "Date\n",
       "2019-01-01     4.30%\n",
       "2019-02-01     4.00%\n",
       "2019-03-01     4.20%\n",
       "2019-04-01     3.10%\n",
       "2019-05-01     3.40%\n",
       "2019-06-01     3.80%\n",
       "2019-07-01     4.50%\n",
       "2019-08-01     4.00%\n",
       "2019-09-01     3.00%\n",
       "2019-10-01     3.20%\n",
       "2019-11-01     3.40%\n",
       "2019-12-01     3.70%\n",
       "2020-01-01     4.30%\n",
       "2020-02-01     3.90%\n",
       "2020-03-01     4.40%\n",
       "2020-04-01    11.40%\n",
       "2020-05-01    11.60%\n",
       "2020-06-01     8.80%\n",
       "2020-07-01     8.60%\n",
       "2020-08-01     8.80%\n",
       "2020-09-01     5.50%\n",
       "2020-10-01     4.90%\n",
       "2020-11-01     5.00%\n",
       "2020-12-01     6.90%\n",
       "Name: Average Unemployment Rate, dtype: object"
      ]
     },
     "execution_count": 13,
     "metadata": {},
     "output_type": "execute_result"
    }
   ],
   "source": [
    "sum_df = pd.DataFrame({\"Average Unemployment Rate\": avg_rater})\n",
    "sum_df = sum_df[\"Average Unemployment Rate\"].map('{:.2f}%'.format)\n",
    "sum_df"
   ]
  },
  {
   "cell_type": "code",
   "execution_count": 21,
   "id": "suffering-serve",
   "metadata": {},
   "outputs": [
    {
     "name": "stdout",
     "output_type": "stream",
     "text": [
      "Date\n",
      "2019-01-01     4.30%\n",
      "2019-02-01     4.00%\n",
      "2019-03-01     4.20%\n",
      "2019-04-01     3.10%\n",
      "2019-05-01     3.40%\n",
      "2019-06-01     3.80%\n",
      "2019-07-01     4.50%\n",
      "2019-08-01     4.00%\n",
      "2019-09-01     3.00%\n",
      "2019-10-01     3.20%\n",
      "2019-11-01     3.40%\n",
      "2019-12-01     3.70%\n",
      "2020-01-01     4.30%\n",
      "2020-02-01     3.90%\n",
      "2020-03-01     4.40%\n",
      "2020-04-01    11.40%\n",
      "2020-05-01    11.60%\n",
      "2020-06-01     8.80%\n",
      "2020-07-01     8.60%\n",
      "2020-08-01     8.80%\n",
      "2020-09-01     5.50%\n",
      "2020-10-01     4.90%\n",
      "2020-11-01     5.00%\n",
      "2020-12-01     6.90%\n",
      "Name: Average Unemployment Rate, dtype: object\n"
     ]
    }
   ],
   "source": [
    "print(sum_df).in"
   ]
  },
  {
   "cell_type": "code",
   "execution_count": 19,
   "id": "timely-commercial",
   "metadata": {},
   "outputs": [],
   "source": [
    "#year_grouped = UnemploymentRate.groupby(\"Year\")\n",
    "#year_grouped.head()"
   ]
  },
  {
   "cell_type": "code",
   "execution_count": 20,
   "id": "subjective-prize",
   "metadata": {},
   "outputs": [],
   "source": [
    "#xvalue = year_grouped['Label']\n",
    "#yvalue = year_grouped['Date']\n"
   ]
  },
  {
   "cell_type": "code",
   "execution_count": 338,
   "id": "flexible-punishment",
   "metadata": {},
   "outputs": [],
   "source": [
    "#pd.to_datetime(year_grouped[\"Label\"])"
   ]
  },
  {
   "cell_type": "code",
   "execution_count": 339,
   "id": "humanitarian-reward",
   "metadata": {},
   "outputs": [
    {
     "name": "stderr",
     "output_type": "stream",
     "text": [
      "C:\\Users\\eweber\\Anaconda3\\envs\\PythonData\\lib\\site-packages\\numpy\\core\\_asarray.py:136: VisibleDeprecationWarning: Creating an ndarray from ragged nested sequences (which is a list-or-tuple of lists-or-tuples-or ndarrays with different lengths or shapes) is deprecated. If you meant to do this, you must specify 'dtype=object' when creating the ndarray\n",
      "  return array(a, dtype, copy=False, order=order, subok=True)\n"
     ]
    },
    {
     "ename": "ConversionError",
     "evalue": "Failed to convert value(s) to axis units: array([0     Jan\n1     Feb\n2     Mar\n3     Apr\n4     May\n5     Jun\n6     Jul\n7     Aug\n8     Sep\n9     Oct\n10    Nov\n11    Dec\nName: Label, dtype: object,\n       12    Jan\n13    Feb\n14    Mar\n15    Apr\n16    May\n17    Jun\n18    Jul\n19    Aug\n20    Sep\n21    Oct\n22    Nov\n23    Dec\nName: Label, dtype: object], dtype=object)",
     "output_type": "error",
     "traceback": [
      "\u001b[1;31m---------------------------------------------------------------------------\u001b[0m",
      "\u001b[1;31mValueError\u001b[0m                                Traceback (most recent call last)",
      "\u001b[1;32mC:\\Users\\eweber\\Anaconda3\\envs\\PythonData\\lib\\site-packages\\matplotlib\\axis.py\u001b[0m in \u001b[0;36mconvert_units\u001b[1;34m(self, x)\u001b[0m\n\u001b[0;32m   1522\u001b[0m         \u001b[1;32mtry\u001b[0m\u001b[1;33m:\u001b[0m\u001b[1;33m\u001b[0m\u001b[1;33m\u001b[0m\u001b[0m\n\u001b[1;32m-> 1523\u001b[1;33m             \u001b[0mret\u001b[0m \u001b[1;33m=\u001b[0m \u001b[0mself\u001b[0m\u001b[1;33m.\u001b[0m\u001b[0mconverter\u001b[0m\u001b[1;33m.\u001b[0m\u001b[0mconvert\u001b[0m\u001b[1;33m(\u001b[0m\u001b[0mx\u001b[0m\u001b[1;33m,\u001b[0m \u001b[0mself\u001b[0m\u001b[1;33m.\u001b[0m\u001b[0munits\u001b[0m\u001b[1;33m,\u001b[0m \u001b[0mself\u001b[0m\u001b[1;33m)\u001b[0m\u001b[1;33m\u001b[0m\u001b[1;33m\u001b[0m\u001b[0m\n\u001b[0m\u001b[0;32m   1524\u001b[0m         \u001b[1;32mexcept\u001b[0m \u001b[0mException\u001b[0m \u001b[1;32mas\u001b[0m \u001b[0me\u001b[0m\u001b[1;33m:\u001b[0m\u001b[1;33m\u001b[0m\u001b[1;33m\u001b[0m\u001b[0m\n",
      "\u001b[1;32mC:\\Users\\eweber\\Anaconda3\\envs\\PythonData\\lib\\site-packages\\matplotlib\\category.py\u001b[0m in \u001b[0;36mconvert\u001b[1;34m(value, unit, axis)\u001b[0m\n\u001b[0;32m     49\u001b[0m             raise ValueError(\n\u001b[1;32m---> 50\u001b[1;33m                 \u001b[1;34m'Missing category information for StrCategoryConverter; '\u001b[0m\u001b[1;33m\u001b[0m\u001b[1;33m\u001b[0m\u001b[0m\n\u001b[0m\u001b[0;32m     51\u001b[0m                 \u001b[1;34m'this might be caused by unintendedly mixing categorical and '\u001b[0m\u001b[1;33m\u001b[0m\u001b[1;33m\u001b[0m\u001b[0m\n",
      "\u001b[1;31mValueError\u001b[0m: Missing category information for StrCategoryConverter; this might be caused by unintendedly mixing categorical and numeric data",
      "\nThe above exception was the direct cause of the following exception:\n",
      "\u001b[1;31mConversionError\u001b[0m                           Traceback (most recent call last)",
      "\u001b[1;32m<ipython-input-339-431faa77aa60>\u001b[0m in \u001b[0;36m<module>\u001b[1;34m()\u001b[0m\n\u001b[1;32m----> 1\u001b[1;33m \u001b[0mplt\u001b[0m\u001b[1;33m.\u001b[0m\u001b[0mplot\u001b[0m\u001b[1;33m(\u001b[0m\u001b[0mxvalue\u001b[0m\u001b[1;33m,\u001b[0m \u001b[0myvalue\u001b[0m\u001b[1;33m)\u001b[0m\u001b[1;33m\u001b[0m\u001b[1;33m\u001b[0m\u001b[0m\n\u001b[0m",
      "\u001b[1;32mC:\\Users\\eweber\\Anaconda3\\envs\\PythonData\\lib\\site-packages\\matplotlib\\pyplot.py\u001b[0m in \u001b[0;36mplot\u001b[1;34m(scalex, scaley, data, *args, **kwargs)\u001b[0m\n\u001b[0;32m   2840\u001b[0m     return gca().plot(\n\u001b[0;32m   2841\u001b[0m         \u001b[1;33m*\u001b[0m\u001b[0margs\u001b[0m\u001b[1;33m,\u001b[0m \u001b[0mscalex\u001b[0m\u001b[1;33m=\u001b[0m\u001b[0mscalex\u001b[0m\u001b[1;33m,\u001b[0m \u001b[0mscaley\u001b[0m\u001b[1;33m=\u001b[0m\u001b[0mscaley\u001b[0m\u001b[1;33m,\u001b[0m\u001b[1;33m\u001b[0m\u001b[1;33m\u001b[0m\u001b[0m\n\u001b[1;32m-> 2842\u001b[1;33m         **({\"data\": data} if data is not None else {}), **kwargs)\n\u001b[0m\u001b[0;32m   2843\u001b[0m \u001b[1;33m\u001b[0m\u001b[0m\n\u001b[0;32m   2844\u001b[0m \u001b[1;33m\u001b[0m\u001b[0m\n",
      "\u001b[1;32mC:\\Users\\eweber\\Anaconda3\\envs\\PythonData\\lib\\site-packages\\matplotlib\\axes\\_axes.py\u001b[0m in \u001b[0;36mplot\u001b[1;34m(self, scalex, scaley, data, *args, **kwargs)\u001b[0m\n\u001b[0;32m   1743\u001b[0m         \u001b[0mlines\u001b[0m \u001b[1;33m=\u001b[0m \u001b[1;33m[\u001b[0m\u001b[1;33m*\u001b[0m\u001b[0mself\u001b[0m\u001b[1;33m.\u001b[0m\u001b[0m_get_lines\u001b[0m\u001b[1;33m(\u001b[0m\u001b[1;33m*\u001b[0m\u001b[0margs\u001b[0m\u001b[1;33m,\u001b[0m \u001b[0mdata\u001b[0m\u001b[1;33m=\u001b[0m\u001b[0mdata\u001b[0m\u001b[1;33m,\u001b[0m \u001b[1;33m**\u001b[0m\u001b[0mkwargs\u001b[0m\u001b[1;33m)\u001b[0m\u001b[1;33m]\u001b[0m\u001b[1;33m\u001b[0m\u001b[1;33m\u001b[0m\u001b[0m\n\u001b[0;32m   1744\u001b[0m         \u001b[1;32mfor\u001b[0m \u001b[0mline\u001b[0m \u001b[1;32min\u001b[0m \u001b[0mlines\u001b[0m\u001b[1;33m:\u001b[0m\u001b[1;33m\u001b[0m\u001b[1;33m\u001b[0m\u001b[0m\n\u001b[1;32m-> 1745\u001b[1;33m             \u001b[0mself\u001b[0m\u001b[1;33m.\u001b[0m\u001b[0madd_line\u001b[0m\u001b[1;33m(\u001b[0m\u001b[0mline\u001b[0m\u001b[1;33m)\u001b[0m\u001b[1;33m\u001b[0m\u001b[1;33m\u001b[0m\u001b[0m\n\u001b[0m\u001b[0;32m   1746\u001b[0m         \u001b[0mself\u001b[0m\u001b[1;33m.\u001b[0m\u001b[0m_request_autoscale_view\u001b[0m\u001b[1;33m(\u001b[0m\u001b[0mscalex\u001b[0m\u001b[1;33m=\u001b[0m\u001b[0mscalex\u001b[0m\u001b[1;33m,\u001b[0m \u001b[0mscaley\u001b[0m\u001b[1;33m=\u001b[0m\u001b[0mscaley\u001b[0m\u001b[1;33m)\u001b[0m\u001b[1;33m\u001b[0m\u001b[1;33m\u001b[0m\u001b[0m\n\u001b[0;32m   1747\u001b[0m         \u001b[1;32mreturn\u001b[0m \u001b[0mlines\u001b[0m\u001b[1;33m\u001b[0m\u001b[1;33m\u001b[0m\u001b[0m\n",
      "\u001b[1;32mC:\\Users\\eweber\\Anaconda3\\envs\\PythonData\\lib\\site-packages\\matplotlib\\axes\\_base.py\u001b[0m in \u001b[0;36madd_line\u001b[1;34m(self, line)\u001b[0m\n\u001b[0;32m   1962\u001b[0m             \u001b[0mline\u001b[0m\u001b[1;33m.\u001b[0m\u001b[0mset_clip_path\u001b[0m\u001b[1;33m(\u001b[0m\u001b[0mself\u001b[0m\u001b[1;33m.\u001b[0m\u001b[0mpatch\u001b[0m\u001b[1;33m)\u001b[0m\u001b[1;33m\u001b[0m\u001b[1;33m\u001b[0m\u001b[0m\n\u001b[0;32m   1963\u001b[0m \u001b[1;33m\u001b[0m\u001b[0m\n\u001b[1;32m-> 1964\u001b[1;33m         \u001b[0mself\u001b[0m\u001b[1;33m.\u001b[0m\u001b[0m_update_line_limits\u001b[0m\u001b[1;33m(\u001b[0m\u001b[0mline\u001b[0m\u001b[1;33m)\u001b[0m\u001b[1;33m\u001b[0m\u001b[1;33m\u001b[0m\u001b[0m\n\u001b[0m\u001b[0;32m   1965\u001b[0m         \u001b[1;32mif\u001b[0m \u001b[1;32mnot\u001b[0m \u001b[0mline\u001b[0m\u001b[1;33m.\u001b[0m\u001b[0mget_label\u001b[0m\u001b[1;33m(\u001b[0m\u001b[1;33m)\u001b[0m\u001b[1;33m:\u001b[0m\u001b[1;33m\u001b[0m\u001b[1;33m\u001b[0m\u001b[0m\n\u001b[0;32m   1966\u001b[0m             \u001b[0mline\u001b[0m\u001b[1;33m.\u001b[0m\u001b[0mset_label\u001b[0m\u001b[1;33m(\u001b[0m\u001b[1;34m'_line%d'\u001b[0m \u001b[1;33m%\u001b[0m \u001b[0mlen\u001b[0m\u001b[1;33m(\u001b[0m\u001b[0mself\u001b[0m\u001b[1;33m.\u001b[0m\u001b[0mlines\u001b[0m\u001b[1;33m)\u001b[0m\u001b[1;33m)\u001b[0m\u001b[1;33m\u001b[0m\u001b[1;33m\u001b[0m\u001b[0m\n",
      "\u001b[1;32mC:\\Users\\eweber\\Anaconda3\\envs\\PythonData\\lib\\site-packages\\matplotlib\\axes\\_base.py\u001b[0m in \u001b[0;36m_update_line_limits\u001b[1;34m(self, line)\u001b[0m\n\u001b[0;32m   1984\u001b[0m         \u001b[0mFigures\u001b[0m \u001b[0mout\u001b[0m \u001b[0mthe\u001b[0m \u001b[0mdata\u001b[0m \u001b[0mlimit\u001b[0m \u001b[0mof\u001b[0m \u001b[0mthe\u001b[0m \u001b[0mgiven\u001b[0m \u001b[0mline\u001b[0m\u001b[1;33m,\u001b[0m \u001b[0mupdating\u001b[0m \u001b[0mself\u001b[0m\u001b[1;33m.\u001b[0m\u001b[0mdataLim\u001b[0m\u001b[1;33m.\u001b[0m\u001b[1;33m\u001b[0m\u001b[1;33m\u001b[0m\u001b[0m\n\u001b[0;32m   1985\u001b[0m         \"\"\"\n\u001b[1;32m-> 1986\u001b[1;33m         \u001b[0mpath\u001b[0m \u001b[1;33m=\u001b[0m \u001b[0mline\u001b[0m\u001b[1;33m.\u001b[0m\u001b[0mget_path\u001b[0m\u001b[1;33m(\u001b[0m\u001b[1;33m)\u001b[0m\u001b[1;33m\u001b[0m\u001b[1;33m\u001b[0m\u001b[0m\n\u001b[0m\u001b[0;32m   1987\u001b[0m         \u001b[1;32mif\u001b[0m \u001b[0mpath\u001b[0m\u001b[1;33m.\u001b[0m\u001b[0mvertices\u001b[0m\u001b[1;33m.\u001b[0m\u001b[0msize\u001b[0m \u001b[1;33m==\u001b[0m \u001b[1;36m0\u001b[0m\u001b[1;33m:\u001b[0m\u001b[1;33m\u001b[0m\u001b[1;33m\u001b[0m\u001b[0m\n\u001b[0;32m   1988\u001b[0m             \u001b[1;32mreturn\u001b[0m\u001b[1;33m\u001b[0m\u001b[1;33m\u001b[0m\u001b[0m\n",
      "\u001b[1;32mC:\\Users\\eweber\\Anaconda3\\envs\\PythonData\\lib\\site-packages\\matplotlib\\lines.py\u001b[0m in \u001b[0;36mget_path\u001b[1;34m(self)\u001b[0m\n\u001b[0;32m   1009\u001b[0m         \"\"\"\n\u001b[0;32m   1010\u001b[0m         \u001b[1;32mif\u001b[0m \u001b[0mself\u001b[0m\u001b[1;33m.\u001b[0m\u001b[0m_invalidy\u001b[0m \u001b[1;32mor\u001b[0m \u001b[0mself\u001b[0m\u001b[1;33m.\u001b[0m\u001b[0m_invalidx\u001b[0m\u001b[1;33m:\u001b[0m\u001b[1;33m\u001b[0m\u001b[1;33m\u001b[0m\u001b[0m\n\u001b[1;32m-> 1011\u001b[1;33m             \u001b[0mself\u001b[0m\u001b[1;33m.\u001b[0m\u001b[0mrecache\u001b[0m\u001b[1;33m(\u001b[0m\u001b[1;33m)\u001b[0m\u001b[1;33m\u001b[0m\u001b[1;33m\u001b[0m\u001b[0m\n\u001b[0m\u001b[0;32m   1012\u001b[0m         \u001b[1;32mreturn\u001b[0m \u001b[0mself\u001b[0m\u001b[1;33m.\u001b[0m\u001b[0m_path\u001b[0m\u001b[1;33m\u001b[0m\u001b[1;33m\u001b[0m\u001b[0m\n\u001b[0;32m   1013\u001b[0m \u001b[1;33m\u001b[0m\u001b[0m\n",
      "\u001b[1;32mC:\\Users\\eweber\\Anaconda3\\envs\\PythonData\\lib\\site-packages\\matplotlib\\lines.py\u001b[0m in \u001b[0;36mrecache\u001b[1;34m(self, always)\u001b[0m\n\u001b[0;32m    650\u001b[0m     \u001b[1;32mdef\u001b[0m \u001b[0mrecache\u001b[0m\u001b[1;33m(\u001b[0m\u001b[0mself\u001b[0m\u001b[1;33m,\u001b[0m \u001b[0malways\u001b[0m\u001b[1;33m=\u001b[0m\u001b[1;32mFalse\u001b[0m\u001b[1;33m)\u001b[0m\u001b[1;33m:\u001b[0m\u001b[1;33m\u001b[0m\u001b[1;33m\u001b[0m\u001b[0m\n\u001b[0;32m    651\u001b[0m         \u001b[1;32mif\u001b[0m \u001b[0malways\u001b[0m \u001b[1;32mor\u001b[0m \u001b[0mself\u001b[0m\u001b[1;33m.\u001b[0m\u001b[0m_invalidx\u001b[0m\u001b[1;33m:\u001b[0m\u001b[1;33m\u001b[0m\u001b[1;33m\u001b[0m\u001b[0m\n\u001b[1;32m--> 652\u001b[1;33m             \u001b[0mxconv\u001b[0m \u001b[1;33m=\u001b[0m \u001b[0mself\u001b[0m\u001b[1;33m.\u001b[0m\u001b[0mconvert_xunits\u001b[0m\u001b[1;33m(\u001b[0m\u001b[0mself\u001b[0m\u001b[1;33m.\u001b[0m\u001b[0m_xorig\u001b[0m\u001b[1;33m)\u001b[0m\u001b[1;33m\u001b[0m\u001b[1;33m\u001b[0m\u001b[0m\n\u001b[0m\u001b[0;32m    653\u001b[0m             \u001b[0mx\u001b[0m \u001b[1;33m=\u001b[0m \u001b[0m_to_unmasked_float_array\u001b[0m\u001b[1;33m(\u001b[0m\u001b[0mxconv\u001b[0m\u001b[1;33m)\u001b[0m\u001b[1;33m.\u001b[0m\u001b[0mravel\u001b[0m\u001b[1;33m(\u001b[0m\u001b[1;33m)\u001b[0m\u001b[1;33m\u001b[0m\u001b[1;33m\u001b[0m\u001b[0m\n\u001b[0;32m    654\u001b[0m         \u001b[1;32melse\u001b[0m\u001b[1;33m:\u001b[0m\u001b[1;33m\u001b[0m\u001b[1;33m\u001b[0m\u001b[0m\n",
      "\u001b[1;32mC:\\Users\\eweber\\Anaconda3\\envs\\PythonData\\lib\\site-packages\\matplotlib\\artist.py\u001b[0m in \u001b[0;36mconvert_xunits\u001b[1;34m(self, x)\u001b[0m\n\u001b[0;32m    173\u001b[0m         \u001b[1;32mif\u001b[0m \u001b[0max\u001b[0m \u001b[1;32mis\u001b[0m \u001b[1;32mNone\u001b[0m \u001b[1;32mor\u001b[0m \u001b[0max\u001b[0m\u001b[1;33m.\u001b[0m\u001b[0mxaxis\u001b[0m \u001b[1;32mis\u001b[0m \u001b[1;32mNone\u001b[0m\u001b[1;33m:\u001b[0m\u001b[1;33m\u001b[0m\u001b[1;33m\u001b[0m\u001b[0m\n\u001b[0;32m    174\u001b[0m             \u001b[1;32mreturn\u001b[0m \u001b[0mx\u001b[0m\u001b[1;33m\u001b[0m\u001b[1;33m\u001b[0m\u001b[0m\n\u001b[1;32m--> 175\u001b[1;33m         \u001b[1;32mreturn\u001b[0m \u001b[0max\u001b[0m\u001b[1;33m.\u001b[0m\u001b[0mxaxis\u001b[0m\u001b[1;33m.\u001b[0m\u001b[0mconvert_units\u001b[0m\u001b[1;33m(\u001b[0m\u001b[0mx\u001b[0m\u001b[1;33m)\u001b[0m\u001b[1;33m\u001b[0m\u001b[1;33m\u001b[0m\u001b[0m\n\u001b[0m\u001b[0;32m    176\u001b[0m \u001b[1;33m\u001b[0m\u001b[0m\n\u001b[0;32m    177\u001b[0m     \u001b[1;32mdef\u001b[0m \u001b[0mconvert_yunits\u001b[0m\u001b[1;33m(\u001b[0m\u001b[0mself\u001b[0m\u001b[1;33m,\u001b[0m \u001b[0my\u001b[0m\u001b[1;33m)\u001b[0m\u001b[1;33m:\u001b[0m\u001b[1;33m\u001b[0m\u001b[1;33m\u001b[0m\u001b[0m\n",
      "\u001b[1;32mC:\\Users\\eweber\\Anaconda3\\envs\\PythonData\\lib\\site-packages\\matplotlib\\axis.py\u001b[0m in \u001b[0;36mconvert_units\u001b[1;34m(self, x)\u001b[0m\n\u001b[0;32m   1524\u001b[0m         \u001b[1;32mexcept\u001b[0m \u001b[0mException\u001b[0m \u001b[1;32mas\u001b[0m \u001b[0me\u001b[0m\u001b[1;33m:\u001b[0m\u001b[1;33m\u001b[0m\u001b[1;33m\u001b[0m\u001b[0m\n\u001b[0;32m   1525\u001b[0m             raise munits.ConversionError('Failed to convert value(s) to axis '\n\u001b[1;32m-> 1526\u001b[1;33m                                          f'units: {x!r}') from e\n\u001b[0m\u001b[0;32m   1527\u001b[0m         \u001b[1;32mreturn\u001b[0m \u001b[0mret\u001b[0m\u001b[1;33m\u001b[0m\u001b[1;33m\u001b[0m\u001b[0m\n\u001b[0;32m   1528\u001b[0m \u001b[1;33m\u001b[0m\u001b[0m\n",
      "\u001b[1;31mConversionError\u001b[0m: Failed to convert value(s) to axis units: array([0     Jan\n1     Feb\n2     Mar\n3     Apr\n4     May\n5     Jun\n6     Jul\n7     Aug\n8     Sep\n9     Oct\n10    Nov\n11    Dec\nName: Label, dtype: object,\n       12    Jan\n13    Feb\n14    Mar\n15    Apr\n16    May\n17    Jun\n18    Jul\n19    Aug\n20    Sep\n21    Oct\n22    Nov\n23    Dec\nName: Label, dtype: object], dtype=object)"
     ]
    },
    {
     "data": {
      "image/png": "[encoded data removed]",
      "text/plain": [
       "<Figure size 432x288 with 1 Axes>"
      ]
     },
     "metadata": {
      "needs_background": "light"
     },
     "output_type": "display_data"
    }
   ],
   "source": [
    "plt.plot(xvalue, yvalue)\n"
   ]
  },
  {
   "cell_type": "code",
   "execution_count": 320,
   "id": "sublime-picture",
   "metadata": {},
   "outputs": [],
   "source": [
    "#plt.plot(xvalue, yvalue)"
   ]
  },
  {
   "cell_type": "code",
   "execution_count": 310,
   "id": "wrong-branch",
   "metadata": {},
   "outputs": [],
   "source": []
  },
  {
   "cell_type": "code",
   "execution_count": 258,
   "id": "worthy-upper",
   "metadata": {
    "scrolled": true
   },
   "outputs": [
    {
     "data": {
      "text/html": [
       "<div>\n",
       "<style scoped>\n",
       "    .dataframe tbody tr th:only-of-type {\n",
       "        vertical-align: middle;\n",
       "    }\n",
       "\n",
       "    .dataframe tbody tr th {\n",
       "        vertical-align: top;\n",
       "    }\n",
       "\n",
       "    .dataframe thead th {\n",
       "        text-align: right;\n",
       "    }\n",
       "</style>\n",
       "<table border=\"1\" class=\"dataframe\">\n",
       "  <thead>\n",
       "    <tr style=\"text-align: right;\">\n",
       "      <th></th>\n",
       "      <th>Value</th>\n",
       "    </tr>\n",
       "    <tr>\n",
       "      <th>Label</th>\n",
       "      <th></th>\n",
       "    </tr>\n",
       "  </thead>\n",
       "  <tbody>\n",
       "    <tr>\n",
       "      <th>2019 Apr</th>\n",
       "      <td>3.1</td>\n",
       "    </tr>\n",
       "    <tr>\n",
       "      <th>2019 Aug</th>\n",
       "      <td>4.0</td>\n",
       "    </tr>\n",
       "    <tr>\n",
       "      <th>2019 Dec</th>\n",
       "      <td>3.7</td>\n",
       "    </tr>\n",
       "    <tr>\n",
       "      <th>2019 Feb</th>\n",
       "      <td>4.0</td>\n",
       "    </tr>\n",
       "    <tr>\n",
       "      <th>2019 Jan</th>\n",
       "      <td>4.3</td>\n",
       "    </tr>\n",
       "    <tr>\n",
       "      <th>2019 Jul</th>\n",
       "      <td>4.5</td>\n",
       "    </tr>\n",
       "    <tr>\n",
       "      <th>2019 Jun</th>\n",
       "      <td>3.8</td>\n",
       "    </tr>\n",
       "    <tr>\n",
       "      <th>2019 Mar</th>\n",
       "      <td>4.2</td>\n",
       "    </tr>\n",
       "    <tr>\n",
       "      <th>2019 May</th>\n",
       "      <td>3.4</td>\n",
       "    </tr>\n",
       "    <tr>\n",
       "      <th>2019 Nov</th>\n",
       "      <td>3.4</td>\n",
       "    </tr>\n",
       "    <tr>\n",
       "      <th>2019 Oct</th>\n",
       "      <td>3.2</td>\n",
       "    </tr>\n",
       "    <tr>\n",
       "      <th>2019 Sep</th>\n",
       "      <td>3.0</td>\n",
       "    </tr>\n",
       "    <tr>\n",
       "      <th>2020 Apr</th>\n",
       "      <td>11.4</td>\n",
       "    </tr>\n",
       "    <tr>\n",
       "      <th>2020 Aug</th>\n",
       "      <td>8.8</td>\n",
       "    </tr>\n",
       "    <tr>\n",
       "      <th>2020 Dec</th>\n",
       "      <td>6.9</td>\n",
       "    </tr>\n",
       "    <tr>\n",
       "      <th>2020 Feb</th>\n",
       "      <td>3.9</td>\n",
       "    </tr>\n",
       "    <tr>\n",
       "      <th>2020 Jan</th>\n",
       "      <td>4.3</td>\n",
       "    </tr>\n",
       "    <tr>\n",
       "      <th>2020 Jul</th>\n",
       "      <td>8.6</td>\n",
       "    </tr>\n",
       "    <tr>\n",
       "      <th>2020 Jun</th>\n",
       "      <td>8.8</td>\n",
       "    </tr>\n",
       "    <tr>\n",
       "      <th>2020 Mar</th>\n",
       "      <td>4.4</td>\n",
       "    </tr>\n",
       "    <tr>\n",
       "      <th>2020 May</th>\n",
       "      <td>11.6</td>\n",
       "    </tr>\n",
       "    <tr>\n",
       "      <th>2020 Nov</th>\n",
       "      <td>5.0</td>\n",
       "    </tr>\n",
       "    <tr>\n",
       "      <th>2020 Oct</th>\n",
       "      <td>4.9</td>\n",
       "    </tr>\n",
       "    <tr>\n",
       "      <th>2020 Sep</th>\n",
       "      <td>5.5</td>\n",
       "    </tr>\n",
       "  </tbody>\n",
       "</table>\n",
       "</div>"
      ],
      "text/plain": [
       "          Value\n",
       "Label          \n",
       "2019 Apr    3.1\n",
       "2019 Aug    4.0\n",
       "2019 Dec    3.7\n",
       "2019 Feb    4.0\n",
       "2019 Jan    4.3\n",
       "2019 Jul    4.5\n",
       "2019 Jun    3.8\n",
       "2019 Mar    4.2\n",
       "2019 May    3.4\n",
       "2019 Nov    3.4\n",
       "2019 Oct    3.2\n",
       "2019 Sep    3.0\n",
       "2020 Apr   11.4\n",
       "2020 Aug    8.8\n",
       "2020 Dec    6.9\n",
       "2020 Feb    3.9\n",
       "2020 Jan    4.3\n",
       "2020 Jul    8.6\n",
       "2020 Jun    8.8\n",
       "2020 Mar    4.4\n",
       "2020 May   11.6\n",
       "2020 Nov    5.0\n",
       "2020 Oct    4.9\n",
       "2020 Sep    5.5"
      ]
     },
     "execution_count": 258,
     "metadata": {},
     "output_type": "execute_result"
    }
   ],
   "source": [
    "year_max = year_grouped[\"Value\"].max()\n",
    "year_max = pd.DataFrame(label_max)\n",
    "label_max"
   ]
  },
  {
   "cell_type": "code",
   "execution_count": 311,
   "id": "bulgarian-coverage",
   "metadata": {},
   "outputs": [],
   "source": [
    "#plt.plot(label_max['Label'], label_max['Value'])"
   ]
  },
  {
   "cell_type": "code",
   "execution_count": null,
   "id": "recorded-cartoon",
   "metadata": {},
   "outputs": [],
   "source": [
    "        # Total Unemployment in Kansas City in 2019 & 2020"
   ]
  },
  {
   "cell_type": "code",
   "execution_count": 239,
   "id": "drawn-change",
   "metadata": {},
   "outputs": [
    {
     "data": {
      "text/plain": [
       "<pandas.core.groupby.generic.DataFrameGroupBy object at 0x000001F0AA87FDA0>"
      ]
     },
     "execution_count": 239,
     "metadata": {},
     "output_type": "execute_result"
    }
   ],
   "source": [
    "total_yr = TotalUnemployment.set_index(\"Year\").groupby([\"Year\"])\n",
    "total_yr"
   ]
  },
  {
   "cell_type": "code",
   "execution_count": 242,
   "id": "sunrise-worse",
   "metadata": {},
   "outputs": [
    {
     "data": {
      "text/plain": [
       "Year\n",
       "2019    13530.500000\n",
       "2020    25245.833333\n",
       "Name: Value, dtype: float64"
      ]
     },
     "execution_count": 242,
     "metadata": {},
     "output_type": "execute_result"
    }
   ],
   "source": [
    "TotalUnempAvg = total_yr['Value'].mean()\n",
    "TotalUnempAvg"
   ]
  },
  {
   "cell_type": "code",
   "execution_count": 247,
   "id": "prepared-orbit",
   "metadata": {},
   "outputs": [
    {
     "data": {
      "text/plain": [
       "Year\n",
       "2019    13530.5\n",
       "2020    25245.8\n",
       "Name: Average Unemployed, dtype: object"
      ]
     },
     "execution_count": 247,
     "metadata": {},
     "output_type": "execute_result"
    }
   ],
   "source": [
    "total_avg = pd.DataFrame({\"Average Unemployed\": TotalUnempAvg})\n",
    "total_avg = total_avg[\"Average Unemployed\"].map('{:.1f}'.format)\n",
    "total_avg"
   ]
  },
  {
   "cell_type": "code",
   "execution_count": 248,
   "id": "relevant-botswana",
   "metadata": {},
   "outputs": [],
   "source": [
    "        # By Label"
   ]
  },
  {
   "cell_type": "code",
   "execution_count": 253,
   "id": "final-projector",
   "metadata": {},
   "outputs": [
    {
     "data": {
      "text/plain": [
       "<pandas.core.groupby.generic.DataFrameGroupBy object at 0x000001F0AA8AB630>"
      ]
     },
     "execution_count": 253,
     "metadata": {},
     "output_type": "execute_result"
    }
   ],
   "source": [
    "label_grouped = UnemploymentRate.groupby(\"Label\")\n",
    "label_grouped"
   ]
  },
  {
   "cell_type": "code",
   "execution_count": 254,
   "id": "sound-income",
   "metadata": {},
   "outputs": [
    {
     "data": {
      "text/plain": [
       "Label\n",
       "2019 Apr     3.1\n",
       "2019 Aug     4.0\n",
       "2019 Dec     3.7\n",
       "2019 Feb     4.0\n",
       "2019 Jan     4.3\n",
       "2019 Jul     4.5\n",
       "2019 Jun     3.8\n",
       "2019 Mar     4.2\n",
       "2019 May     3.4\n",
       "2019 Nov     3.4\n",
       "2019 Oct     3.2\n",
       "2019 Sep     3.0\n",
       "2020 Apr    11.4\n",
       "2020 Aug     8.8\n",
       "2020 Dec     6.9\n",
       "2020 Feb     3.9\n",
       "2020 Jan     4.3\n",
       "2020 Jul     8.6\n",
       "2020 Jun     8.8\n",
       "2020 Mar     4.4\n",
       "2020 May    11.6\n",
       "2020 Nov     5.0\n",
       "2020 Oct     4.9\n",
       "2020 Sep     5.5\n",
       "Name: Value, dtype: float64"
      ]
     },
     "execution_count": 254,
     "metadata": {},
     "output_type": "execute_result"
    }
   ],
   "source": []
  },
  {
   "cell_type": "code",
   "execution_count": null,
   "id": "fiscal-ability",
   "metadata": {},
   "outputs": [],
   "source": []
  }
 ],
 "metadata": {
  "kernelspec": {
   "display_name": "Python 3",
   "language": "python",
   "name": "python3"
  },
  "language_info": {
   "codemirror_mode": {
    "name": "ipython",
    "version": 3
   },
   "file_extension": ".py",
   "mimetype": "text/x-python",
   "name": "python",
   "nbconvert_exporter": "python",
   "pygments_lexer": "ipython3",
   "version": "3.6.12"
  }
 },
 "nbformat": 4,
 "nbformat_minor": 5
}
